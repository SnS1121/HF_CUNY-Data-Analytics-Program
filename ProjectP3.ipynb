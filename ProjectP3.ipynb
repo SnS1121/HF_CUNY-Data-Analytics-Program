{
  "nbformat": 4,
  "nbformat_minor": 0,
  "metadata": {
    "colab": {
      "name": "ProjectP3.ipynb",
      "provenance": [],
      "collapsed_sections": [],
      "authorship_tag": "ABX9TyMJ9scm1wzvkRU6OtXPaZgb",
      "include_colab_link": true
    },
    "kernelspec": {
      "name": "python3",
      "display_name": "Python 3"
    },
    "language_info": {
      "name": "python"
    }
  },
  "cells": [
    {
      "cell_type": "markdown",
      "metadata": {
        "id": "view-in-github",
        "colab_type": "text"
      },
      "source": [
        "<a href=\"https://colab.research.google.com/github/SnS1121/HF_CUNY-Data-Analytics-Program/blob/main/ProjectP3.ipynb\" target=\"_parent\"><img src=\"https://colab.research.google.com/assets/colab-badge.svg\" alt=\"Open In Colab\"/></a>"
      ]
    },
    {
      "cell_type": "code",
      "execution_count": 1,
      "metadata": {
        "id": "hyBeJjgPDGhJ"
      },
      "outputs": [],
      "source": [
        "# imported libraries\n",
        "import pandas as pd\n",
        "import matplotlib.pyplot as plt\n",
        "import seaborn as sns\n",
        "%matplotlib inline\n",
        "import numpy as np"
      ]
    },
    {
      "cell_type": "code",
      "source": [
        "#imported file \n",
        "from google.colab import drive\n",
        "drive.mount('/content/drive')"
      ],
      "metadata": {
        "colab": {
          "base_uri": "https://localhost:8080/"
        },
        "id": "UXTV_4cYDw0z",
        "outputId": "664ad339-71b5-4799-86ad-aa75e84fcb52"
      },
      "execution_count": 2,
      "outputs": [
        {
          "output_type": "stream",
          "name": "stdout",
          "text": [
            "Mounted at /content/drive\n"
          ]
        }
      ]
    },
    {
      "cell_type": "code",
      "source": [
        "df = pd.read_csv('/content/NYPD.csv')"
      ],
      "metadata": {
        "id": "bUsMep90D9LL"
      },
      "execution_count": 3,
      "outputs": []
    },
    {
      "cell_type": "code",
      "source": [
        "#looking through data\n",
        "df.head(5)"
      ],
      "metadata": {
        "colab": {
          "base_uri": "https://localhost:8080/",
          "height": 461
        },
        "id": "ysUoJ6-gEB4A",
        "outputId": "b4360088-e0c1-4ce6-e926-9e5edb42ccf2"
      },
      "execution_count": 4,
      "outputs": [
        {
          "output_type": "execute_result",
          "data": {
            "text/html": [
              "\n",
              "  <div id=\"df-8bdd39e1-0db7-44cf-8075-39e98c3139df\">\n",
              "    <div class=\"colab-df-container\">\n",
              "      <div>\n",
              "<style scoped>\n",
              "    .dataframe tbody tr th:only-of-type {\n",
              "        vertical-align: middle;\n",
              "    }\n",
              "\n",
              "    .dataframe tbody tr th {\n",
              "        vertical-align: top;\n",
              "    }\n",
              "\n",
              "    .dataframe thead th {\n",
              "        text-align: right;\n",
              "    }\n",
              "</style>\n",
              "<table border=\"1\" class=\"dataframe\">\n",
              "  <thead>\n",
              "    <tr style=\"text-align: right;\">\n",
              "      <th></th>\n",
              "      <th>ARREST_KEY</th>\n",
              "      <th>ARREST_DATE</th>\n",
              "      <th>PD_CD</th>\n",
              "      <th>PD_DESC</th>\n",
              "      <th>KY_CD</th>\n",
              "      <th>OFNS_DESC</th>\n",
              "      <th>LAW_CODE</th>\n",
              "      <th>LAW_CAT_CD</th>\n",
              "      <th>ARREST_BORO</th>\n",
              "      <th>ARREST_PRECINCT</th>\n",
              "      <th>JURISDICTION_CODE</th>\n",
              "      <th>AGE_GROUP</th>\n",
              "      <th>PERP_SEX</th>\n",
              "      <th>PERP_RACE</th>\n",
              "      <th>X_COORD_CD</th>\n",
              "      <th>Y_COORD_CD</th>\n",
              "      <th>Latitude</th>\n",
              "      <th>Longitude</th>\n",
              "      <th>New Georeferenced Column</th>\n",
              "    </tr>\n",
              "  </thead>\n",
              "  <tbody>\n",
              "    <tr>\n",
              "      <th>0</th>\n",
              "      <td>238013474</td>\n",
              "      <td>12/18/2021</td>\n",
              "      <td>157.0</td>\n",
              "      <td>RAPE 1</td>\n",
              "      <td>104.0</td>\n",
              "      <td>RAPE</td>\n",
              "      <td>PL 1303501</td>\n",
              "      <td>F</td>\n",
              "      <td>Q</td>\n",
              "      <td>105</td>\n",
              "      <td>97</td>\n",
              "      <td>18-24</td>\n",
              "      <td>M</td>\n",
              "      <td>BLACK</td>\n",
              "      <td>1057636</td>\n",
              "      <td>203954</td>\n",
              "      <td>40.726187</td>\n",
              "      <td>-73.735234</td>\n",
              "      <td>POINT (-73.73523390399998 40.72618713000002)</td>\n",
              "    </tr>\n",
              "    <tr>\n",
              "      <th>1</th>\n",
              "      <td>236943583</td>\n",
              "      <td>11/25/2021</td>\n",
              "      <td>263.0</td>\n",
              "      <td>ARSON 2,3,4</td>\n",
              "      <td>114.0</td>\n",
              "      <td>ARSON</td>\n",
              "      <td>PL 1501500</td>\n",
              "      <td>F</td>\n",
              "      <td>K</td>\n",
              "      <td>69</td>\n",
              "      <td>71</td>\n",
              "      <td>25-44</td>\n",
              "      <td>M</td>\n",
              "      <td>BLACK</td>\n",
              "      <td>1014340</td>\n",
              "      <td>171320</td>\n",
              "      <td>40.636868</td>\n",
              "      <td>-73.891586</td>\n",
              "      <td>POINT (-73.89158591899997 40.63686750900007)</td>\n",
              "    </tr>\n",
              "    <tr>\n",
              "      <th>2</th>\n",
              "      <td>234938876</td>\n",
              "      <td>10/14/2021</td>\n",
              "      <td>594.0</td>\n",
              "      <td>OBSCENITY 1</td>\n",
              "      <td>116.0</td>\n",
              "      <td>SEX CRIMES</td>\n",
              "      <td>PL 2631100</td>\n",
              "      <td>F</td>\n",
              "      <td>K</td>\n",
              "      <td>61</td>\n",
              "      <td>0</td>\n",
              "      <td>25-44</td>\n",
              "      <td>M</td>\n",
              "      <td>WHITE</td>\n",
              "      <td>995244</td>\n",
              "      <td>155739</td>\n",
              "      <td>40.594145</td>\n",
              "      <td>-73.960415</td>\n",
              "      <td>POINT (-73.96041495199995 40.59414516900005)</td>\n",
              "    </tr>\n",
              "    <tr>\n",
              "      <th>3</th>\n",
              "      <td>234788259</td>\n",
              "      <td>10/11/2021</td>\n",
              "      <td>263.0</td>\n",
              "      <td>ARSON 2,3,4</td>\n",
              "      <td>114.0</td>\n",
              "      <td>ARSON</td>\n",
              "      <td>PL 1501001</td>\n",
              "      <td>F</td>\n",
              "      <td>B</td>\n",
              "      <td>42</td>\n",
              "      <td>71</td>\n",
              "      <td>18-24</td>\n",
              "      <td>M</td>\n",
              "      <td>BLACK</td>\n",
              "      <td>1009058</td>\n",
              "      <td>239616</td>\n",
              "      <td>40.824340</td>\n",
              "      <td>-73.910365</td>\n",
              "      <td>POINT (-73.91036538099996 40.82433953100008)</td>\n",
              "    </tr>\n",
              "    <tr>\n",
              "      <th>4</th>\n",
              "      <td>234188790</td>\n",
              "      <td>9/28/2021</td>\n",
              "      <td>578.0</td>\n",
              "      <td>NaN</td>\n",
              "      <td>NaN</td>\n",
              "      <td>NaN</td>\n",
              "      <td>PL 2223001</td>\n",
              "      <td>M</td>\n",
              "      <td>B</td>\n",
              "      <td>44</td>\n",
              "      <td>0</td>\n",
              "      <td>25-44</td>\n",
              "      <td>M</td>\n",
              "      <td>BLACK</td>\n",
              "      <td>1005169</td>\n",
              "      <td>246667</td>\n",
              "      <td>40.843703</td>\n",
              "      <td>-73.924395</td>\n",
              "      <td>POINT (-73.92439508899997 40.84370255600004)</td>\n",
              "    </tr>\n",
              "  </tbody>\n",
              "</table>\n",
              "</div>\n",
              "      <button class=\"colab-df-convert\" onclick=\"convertToInteractive('df-8bdd39e1-0db7-44cf-8075-39e98c3139df')\"\n",
              "              title=\"Convert this dataframe to an interactive table.\"\n",
              "              style=\"display:none;\">\n",
              "        \n",
              "  <svg xmlns=\"http://www.w3.org/2000/svg\" height=\"24px\"viewBox=\"0 0 24 24\"\n",
              "       width=\"24px\">\n",
              "    <path d=\"M0 0h24v24H0V0z\" fill=\"none\"/>\n",
              "    <path d=\"M18.56 5.44l.94 2.06.94-2.06 2.06-.94-2.06-.94-.94-2.06-.94 2.06-2.06.94zm-11 1L8.5 8.5l.94-2.06 2.06-.94-2.06-.94L8.5 2.5l-.94 2.06-2.06.94zm10 10l.94 2.06.94-2.06 2.06-.94-2.06-.94-.94-2.06-.94 2.06-2.06.94z\"/><path d=\"M17.41 7.96l-1.37-1.37c-.4-.4-.92-.59-1.43-.59-.52 0-1.04.2-1.43.59L10.3 9.45l-7.72 7.72c-.78.78-.78 2.05 0 2.83L4 21.41c.39.39.9.59 1.41.59.51 0 1.02-.2 1.41-.59l7.78-7.78 2.81-2.81c.8-.78.8-2.07 0-2.86zM5.41 20L4 18.59l7.72-7.72 1.47 1.35L5.41 20z\"/>\n",
              "  </svg>\n",
              "      </button>\n",
              "      \n",
              "  <style>\n",
              "    .colab-df-container {\n",
              "      display:flex;\n",
              "      flex-wrap:wrap;\n",
              "      gap: 12px;\n",
              "    }\n",
              "\n",
              "    .colab-df-convert {\n",
              "      background-color: #E8F0FE;\n",
              "      border: none;\n",
              "      border-radius: 50%;\n",
              "      cursor: pointer;\n",
              "      display: none;\n",
              "      fill: #1967D2;\n",
              "      height: 32px;\n",
              "      padding: 0 0 0 0;\n",
              "      width: 32px;\n",
              "    }\n",
              "\n",
              "    .colab-df-convert:hover {\n",
              "      background-color: #E2EBFA;\n",
              "      box-shadow: 0px 1px 2px rgba(60, 64, 67, 0.3), 0px 1px 3px 1px rgba(60, 64, 67, 0.15);\n",
              "      fill: #174EA6;\n",
              "    }\n",
              "\n",
              "    [theme=dark] .colab-df-convert {\n",
              "      background-color: #3B4455;\n",
              "      fill: #D2E3FC;\n",
              "    }\n",
              "\n",
              "    [theme=dark] .colab-df-convert:hover {\n",
              "      background-color: #434B5C;\n",
              "      box-shadow: 0px 1px 3px 1px rgba(0, 0, 0, 0.15);\n",
              "      filter: drop-shadow(0px 1px 2px rgba(0, 0, 0, 0.3));\n",
              "      fill: #FFFFFF;\n",
              "    }\n",
              "  </style>\n",
              "\n",
              "      <script>\n",
              "        const buttonEl =\n",
              "          document.querySelector('#df-8bdd39e1-0db7-44cf-8075-39e98c3139df button.colab-df-convert');\n",
              "        buttonEl.style.display =\n",
              "          google.colab.kernel.accessAllowed ? 'block' : 'none';\n",
              "\n",
              "        async function convertToInteractive(key) {\n",
              "          const element = document.querySelector('#df-8bdd39e1-0db7-44cf-8075-39e98c3139df');\n",
              "          const dataTable =\n",
              "            await google.colab.kernel.invokeFunction('convertToInteractive',\n",
              "                                                     [key], {});\n",
              "          if (!dataTable) return;\n",
              "\n",
              "          const docLinkHtml = 'Like what you see? Visit the ' +\n",
              "            '<a target=\"_blank\" href=https://colab.research.google.com/notebooks/data_table.ipynb>data table notebook</a>'\n",
              "            + ' to learn more about interactive tables.';\n",
              "          element.innerHTML = '';\n",
              "          dataTable['output_type'] = 'display_data';\n",
              "          await google.colab.output.renderOutput(dataTable, element);\n",
              "          const docLink = document.createElement('div');\n",
              "          docLink.innerHTML = docLinkHtml;\n",
              "          element.appendChild(docLink);\n",
              "        }\n",
              "      </script>\n",
              "    </div>\n",
              "  </div>\n",
              "  "
            ],
            "text/plain": [
              "   ARREST_KEY ARREST_DATE  PD_CD      PD_DESC  KY_CD   OFNS_DESC    LAW_CODE  \\\n",
              "0   238013474  12/18/2021  157.0       RAPE 1  104.0        RAPE  PL 1303501   \n",
              "1   236943583  11/25/2021  263.0  ARSON 2,3,4  114.0       ARSON  PL 1501500   \n",
              "2   234938876  10/14/2021  594.0  OBSCENITY 1  116.0  SEX CRIMES  PL 2631100   \n",
              "3   234788259  10/11/2021  263.0  ARSON 2,3,4  114.0       ARSON  PL 1501001   \n",
              "4   234188790   9/28/2021  578.0          NaN    NaN         NaN  PL 2223001   \n",
              "\n",
              "  LAW_CAT_CD ARREST_BORO  ARREST_PRECINCT  JURISDICTION_CODE AGE_GROUP  \\\n",
              "0          F           Q              105                 97     18-24   \n",
              "1          F           K               69                 71     25-44   \n",
              "2          F           K               61                  0     25-44   \n",
              "3          F           B               42                 71     18-24   \n",
              "4          M           B               44                  0     25-44   \n",
              "\n",
              "  PERP_SEX PERP_RACE  X_COORD_CD  Y_COORD_CD   Latitude  Longitude  \\\n",
              "0        M     BLACK     1057636      203954  40.726187 -73.735234   \n",
              "1        M     BLACK     1014340      171320  40.636868 -73.891586   \n",
              "2        M     WHITE      995244      155739  40.594145 -73.960415   \n",
              "3        M     BLACK     1009058      239616  40.824340 -73.910365   \n",
              "4        M     BLACK     1005169      246667  40.843703 -73.924395   \n",
              "\n",
              "                       New Georeferenced Column  \n",
              "0  POINT (-73.73523390399998 40.72618713000002)  \n",
              "1  POINT (-73.89158591899997 40.63686750900007)  \n",
              "2  POINT (-73.96041495199995 40.59414516900005)  \n",
              "3  POINT (-73.91036538099996 40.82433953100008)  \n",
              "4  POINT (-73.92439508899997 40.84370255600004)  "
            ]
          },
          "metadata": {},
          "execution_count": 4
        }
      ]
    },
    {
      "cell_type": "code",
      "source": [
        "df.describe()"
      ],
      "metadata": {
        "colab": {
          "base_uri": "https://localhost:8080/",
          "height": 300
        },
        "id": "_6PXAjTDEEvl",
        "outputId": "088ba2f6-b1b3-4aec-c5d3-552d721caac1"
      },
      "execution_count": 5,
      "outputs": [
        {
          "output_type": "execute_result",
          "data": {
            "text/html": [
              "\n",
              "  <div id=\"df-5896e691-9282-415f-a92a-3a8b160f88ad\">\n",
              "    <div class=\"colab-df-container\">\n",
              "      <div>\n",
              "<style scoped>\n",
              "    .dataframe tbody tr th:only-of-type {\n",
              "        vertical-align: middle;\n",
              "    }\n",
              "\n",
              "    .dataframe tbody tr th {\n",
              "        vertical-align: top;\n",
              "    }\n",
              "\n",
              "    .dataframe thead th {\n",
              "        text-align: right;\n",
              "    }\n",
              "</style>\n",
              "<table border=\"1\" class=\"dataframe\">\n",
              "  <thead>\n",
              "    <tr style=\"text-align: right;\">\n",
              "      <th></th>\n",
              "      <th>ARREST_KEY</th>\n",
              "      <th>PD_CD</th>\n",
              "      <th>KY_CD</th>\n",
              "      <th>ARREST_PRECINCT</th>\n",
              "      <th>JURISDICTION_CODE</th>\n",
              "      <th>X_COORD_CD</th>\n",
              "      <th>Y_COORD_CD</th>\n",
              "      <th>Latitude</th>\n",
              "      <th>Longitude</th>\n",
              "    </tr>\n",
              "  </thead>\n",
              "  <tbody>\n",
              "    <tr>\n",
              "      <th>count</th>\n",
              "      <td>1.555070e+05</td>\n",
              "      <td>155478.000000</td>\n",
              "      <td>155404.000000</td>\n",
              "      <td>155507.000000</td>\n",
              "      <td>155507.000000</td>\n",
              "      <td>1.555070e+05</td>\n",
              "      <td>155507.000000</td>\n",
              "      <td>155507.000000</td>\n",
              "      <td>155507.000000</td>\n",
              "    </tr>\n",
              "    <tr>\n",
              "      <th>mean</th>\n",
              "      <td>2.304676e+08</td>\n",
              "      <td>407.828066</td>\n",
              "      <td>244.962974</td>\n",
              "      <td>62.850322</td>\n",
              "      <td>0.912486</td>\n",
              "      <td>1.004996e+06</td>\n",
              "      <td>208163.457555</td>\n",
              "      <td>40.737994</td>\n",
              "      <td>-73.925113</td>\n",
              "    </tr>\n",
              "    <tr>\n",
              "      <th>std</th>\n",
              "      <td>4.628028e+06</td>\n",
              "      <td>275.739138</td>\n",
              "      <td>150.334545</td>\n",
              "      <td>35.258605</td>\n",
              "      <td>7.894204</td>\n",
              "      <td>2.152869e+04</td>\n",
              "      <td>29904.384015</td>\n",
              "      <td>0.082086</td>\n",
              "      <td>0.077640</td>\n",
              "    </tr>\n",
              "    <tr>\n",
              "      <th>min</th>\n",
              "      <td>2.224711e+08</td>\n",
              "      <td>0.000000</td>\n",
              "      <td>101.000000</td>\n",
              "      <td>1.000000</td>\n",
              "      <td>0.000000</td>\n",
              "      <td>9.142140e+05</td>\n",
              "      <td>121312.000000</td>\n",
              "      <td>40.499401</td>\n",
              "      <td>-74.251844</td>\n",
              "    </tr>\n",
              "    <tr>\n",
              "      <th>25%</th>\n",
              "      <td>2.263289e+08</td>\n",
              "      <td>113.000000</td>\n",
              "      <td>111.000000</td>\n",
              "      <td>34.000000</td>\n",
              "      <td>0.000000</td>\n",
              "      <td>9.912230e+05</td>\n",
              "      <td>185908.000000</td>\n",
              "      <td>40.676902</td>\n",
              "      <td>-73.974837</td>\n",
              "    </tr>\n",
              "    <tr>\n",
              "      <th>50%</th>\n",
              "      <td>2.306202e+08</td>\n",
              "      <td>339.000000</td>\n",
              "      <td>235.000000</td>\n",
              "      <td>62.000000</td>\n",
              "      <td>0.000000</td>\n",
              "      <td>1.004222e+06</td>\n",
              "      <td>207067.000000</td>\n",
              "      <td>40.735036</td>\n",
              "      <td>-73.927979</td>\n",
              "    </tr>\n",
              "    <tr>\n",
              "      <th>75%</th>\n",
              "      <td>2.344524e+08</td>\n",
              "      <td>705.000000</td>\n",
              "      <td>344.000000</td>\n",
              "      <td>101.000000</td>\n",
              "      <td>0.000000</td>\n",
              "      <td>1.017119e+06</td>\n",
              "      <td>235804.000000</td>\n",
              "      <td>40.813903</td>\n",
              "      <td>-73.881512</td>\n",
              "    </tr>\n",
              "    <tr>\n",
              "      <th>max</th>\n",
              "      <td>2.385139e+08</td>\n",
              "      <td>997.000000</td>\n",
              "      <td>995.000000</td>\n",
              "      <td>123.000000</td>\n",
              "      <td>97.000000</td>\n",
              "      <td>1.066928e+06</td>\n",
              "      <td>271820.000000</td>\n",
              "      <td>40.912723</td>\n",
              "      <td>-73.701612</td>\n",
              "    </tr>\n",
              "  </tbody>\n",
              "</table>\n",
              "</div>\n",
              "      <button class=\"colab-df-convert\" onclick=\"convertToInteractive('df-5896e691-9282-415f-a92a-3a8b160f88ad')\"\n",
              "              title=\"Convert this dataframe to an interactive table.\"\n",
              "              style=\"display:none;\">\n",
              "        \n",
              "  <svg xmlns=\"http://www.w3.org/2000/svg\" height=\"24px\"viewBox=\"0 0 24 24\"\n",
              "       width=\"24px\">\n",
              "    <path d=\"M0 0h24v24H0V0z\" fill=\"none\"/>\n",
              "    <path d=\"M18.56 5.44l.94 2.06.94-2.06 2.06-.94-2.06-.94-.94-2.06-.94 2.06-2.06.94zm-11 1L8.5 8.5l.94-2.06 2.06-.94-2.06-.94L8.5 2.5l-.94 2.06-2.06.94zm10 10l.94 2.06.94-2.06 2.06-.94-2.06-.94-.94-2.06-.94 2.06-2.06.94z\"/><path d=\"M17.41 7.96l-1.37-1.37c-.4-.4-.92-.59-1.43-.59-.52 0-1.04.2-1.43.59L10.3 9.45l-7.72 7.72c-.78.78-.78 2.05 0 2.83L4 21.41c.39.39.9.59 1.41.59.51 0 1.02-.2 1.41-.59l7.78-7.78 2.81-2.81c.8-.78.8-2.07 0-2.86zM5.41 20L4 18.59l7.72-7.72 1.47 1.35L5.41 20z\"/>\n",
              "  </svg>\n",
              "      </button>\n",
              "      \n",
              "  <style>\n",
              "    .colab-df-container {\n",
              "      display:flex;\n",
              "      flex-wrap:wrap;\n",
              "      gap: 12px;\n",
              "    }\n",
              "\n",
              "    .colab-df-convert {\n",
              "      background-color: #E8F0FE;\n",
              "      border: none;\n",
              "      border-radius: 50%;\n",
              "      cursor: pointer;\n",
              "      display: none;\n",
              "      fill: #1967D2;\n",
              "      height: 32px;\n",
              "      padding: 0 0 0 0;\n",
              "      width: 32px;\n",
              "    }\n",
              "\n",
              "    .colab-df-convert:hover {\n",
              "      background-color: #E2EBFA;\n",
              "      box-shadow: 0px 1px 2px rgba(60, 64, 67, 0.3), 0px 1px 3px 1px rgba(60, 64, 67, 0.15);\n",
              "      fill: #174EA6;\n",
              "    }\n",
              "\n",
              "    [theme=dark] .colab-df-convert {\n",
              "      background-color: #3B4455;\n",
              "      fill: #D2E3FC;\n",
              "    }\n",
              "\n",
              "    [theme=dark] .colab-df-convert:hover {\n",
              "      background-color: #434B5C;\n",
              "      box-shadow: 0px 1px 3px 1px rgba(0, 0, 0, 0.15);\n",
              "      filter: drop-shadow(0px 1px 2px rgba(0, 0, 0, 0.3));\n",
              "      fill: #FFFFFF;\n",
              "    }\n",
              "  </style>\n",
              "\n",
              "      <script>\n",
              "        const buttonEl =\n",
              "          document.querySelector('#df-5896e691-9282-415f-a92a-3a8b160f88ad button.colab-df-convert');\n",
              "        buttonEl.style.display =\n",
              "          google.colab.kernel.accessAllowed ? 'block' : 'none';\n",
              "\n",
              "        async function convertToInteractive(key) {\n",
              "          const element = document.querySelector('#df-5896e691-9282-415f-a92a-3a8b160f88ad');\n",
              "          const dataTable =\n",
              "            await google.colab.kernel.invokeFunction('convertToInteractive',\n",
              "                                                     [key], {});\n",
              "          if (!dataTable) return;\n",
              "\n",
              "          const docLinkHtml = 'Like what you see? Visit the ' +\n",
              "            '<a target=\"_blank\" href=https://colab.research.google.com/notebooks/data_table.ipynb>data table notebook</a>'\n",
              "            + ' to learn more about interactive tables.';\n",
              "          element.innerHTML = '';\n",
              "          dataTable['output_type'] = 'display_data';\n",
              "          await google.colab.output.renderOutput(dataTable, element);\n",
              "          const docLink = document.createElement('div');\n",
              "          docLink.innerHTML = docLinkHtml;\n",
              "          element.appendChild(docLink);\n",
              "        }\n",
              "      </script>\n",
              "    </div>\n",
              "  </div>\n",
              "  "
            ],
            "text/plain": [
              "         ARREST_KEY          PD_CD          KY_CD  ARREST_PRECINCT  \\\n",
              "count  1.555070e+05  155478.000000  155404.000000    155507.000000   \n",
              "mean   2.304676e+08     407.828066     244.962974        62.850322   \n",
              "std    4.628028e+06     275.739138     150.334545        35.258605   \n",
              "min    2.224711e+08       0.000000     101.000000         1.000000   \n",
              "25%    2.263289e+08     113.000000     111.000000        34.000000   \n",
              "50%    2.306202e+08     339.000000     235.000000        62.000000   \n",
              "75%    2.344524e+08     705.000000     344.000000       101.000000   \n",
              "max    2.385139e+08     997.000000     995.000000       123.000000   \n",
              "\n",
              "       JURISDICTION_CODE    X_COORD_CD     Y_COORD_CD       Latitude  \\\n",
              "count      155507.000000  1.555070e+05  155507.000000  155507.000000   \n",
              "mean            0.912486  1.004996e+06  208163.457555      40.737994   \n",
              "std             7.894204  2.152869e+04   29904.384015       0.082086   \n",
              "min             0.000000  9.142140e+05  121312.000000      40.499401   \n",
              "25%             0.000000  9.912230e+05  185908.000000      40.676902   \n",
              "50%             0.000000  1.004222e+06  207067.000000      40.735036   \n",
              "75%             0.000000  1.017119e+06  235804.000000      40.813903   \n",
              "max            97.000000  1.066928e+06  271820.000000      40.912723   \n",
              "\n",
              "           Longitude  \n",
              "count  155507.000000  \n",
              "mean      -73.925113  \n",
              "std         0.077640  \n",
              "min       -74.251844  \n",
              "25%       -73.974837  \n",
              "50%       -73.927979  \n",
              "75%       -73.881512  \n",
              "max       -73.701612  "
            ]
          },
          "metadata": {},
          "execution_count": 5
        }
      ]
    },
    {
      "cell_type": "code",
      "source": [
        "df.info()"
      ],
      "metadata": {
        "colab": {
          "base_uri": "https://localhost:8080/"
        },
        "id": "t7Yahx3JELR1",
        "outputId": "0ba00c71-e41b-4956-f707-78aae0911f28"
      },
      "execution_count": 6,
      "outputs": [
        {
          "output_type": "stream",
          "name": "stdout",
          "text": [
            "<class 'pandas.core.frame.DataFrame'>\n",
            "RangeIndex: 155507 entries, 0 to 155506\n",
            "Data columns (total 19 columns):\n",
            " #   Column                    Non-Null Count   Dtype  \n",
            "---  ------                    --------------   -----  \n",
            " 0   ARREST_KEY                155507 non-null  int64  \n",
            " 1   ARREST_DATE               155507 non-null  object \n",
            " 2   PD_CD                     155478 non-null  float64\n",
            " 3   PD_DESC                   155404 non-null  object \n",
            " 4   KY_CD                     155404 non-null  float64\n",
            " 5   OFNS_DESC                 155404 non-null  object \n",
            " 6   LAW_CODE                  155507 non-null  object \n",
            " 7   LAW_CAT_CD                154114 non-null  object \n",
            " 8   ARREST_BORO               155507 non-null  object \n",
            " 9   ARREST_PRECINCT           155507 non-null  int64  \n",
            " 10  JURISDICTION_CODE         155507 non-null  int64  \n",
            " 11  AGE_GROUP                 155507 non-null  object \n",
            " 12  PERP_SEX                  155507 non-null  object \n",
            " 13  PERP_RACE                 155507 non-null  object \n",
            " 14  X_COORD_CD                155507 non-null  int64  \n",
            " 15  Y_COORD_CD                155507 non-null  int64  \n",
            " 16  Latitude                  155507 non-null  float64\n",
            " 17  Longitude                 155507 non-null  float64\n",
            " 18  New Georeferenced Column  155507 non-null  object \n",
            "dtypes: float64(4), int64(5), object(10)\n",
            "memory usage: 22.5+ MB\n"
          ]
        }
      ]
    },
    {
      "cell_type": "code",
      "source": [
        " #removing columns not needed for analysis\n",
        " df=df.drop(df.columns[[2,4,6,7,10,18]],axis=1)"
      ],
      "metadata": {
        "id": "3Wr2n4OfEPLy"
      },
      "execution_count": 7,
      "outputs": []
    },
    {
      "cell_type": "code",
      "source": [
        "#checking if correct columns were removed\n",
        "df.info()"
      ],
      "metadata": {
        "colab": {
          "base_uri": "https://localhost:8080/"
        },
        "id": "9E6O381cEqU8",
        "outputId": "803c087e-d379-4c57-9b9a-9543655829dd"
      },
      "execution_count": 8,
      "outputs": [
        {
          "output_type": "stream",
          "name": "stdout",
          "text": [
            "<class 'pandas.core.frame.DataFrame'>\n",
            "RangeIndex: 155507 entries, 0 to 155506\n",
            "Data columns (total 13 columns):\n",
            " #   Column           Non-Null Count   Dtype  \n",
            "---  ------           --------------   -----  \n",
            " 0   ARREST_KEY       155507 non-null  int64  \n",
            " 1   ARREST_DATE      155507 non-null  object \n",
            " 2   PD_DESC          155404 non-null  object \n",
            " 3   OFNS_DESC        155404 non-null  object \n",
            " 4   ARREST_BORO      155507 non-null  object \n",
            " 5   ARREST_PRECINCT  155507 non-null  int64  \n",
            " 6   AGE_GROUP        155507 non-null  object \n",
            " 7   PERP_SEX         155507 non-null  object \n",
            " 8   PERP_RACE        155507 non-null  object \n",
            " 9   X_COORD_CD       155507 non-null  int64  \n",
            " 10  Y_COORD_CD       155507 non-null  int64  \n",
            " 11  Latitude         155507 non-null  float64\n",
            " 12  Longitude        155507 non-null  float64\n",
            "dtypes: float64(2), int64(4), object(7)\n",
            "memory usage: 15.4+ MB\n"
          ]
        }
      ]
    },
    {
      "cell_type": "code",
      "source": [
        "df.head(5)"
      ],
      "metadata": {
        "colab": {
          "base_uri": "https://localhost:8080/",
          "height": 206
        },
        "id": "xAdQ4jqYExgI",
        "outputId": "6f920c5a-81a2-43ee-a32e-6a1d0058ccf0"
      },
      "execution_count": 9,
      "outputs": [
        {
          "output_type": "execute_result",
          "data": {
            "text/html": [
              "\n",
              "  <div id=\"df-dc0e0e73-3fa3-4731-b788-6028f4ab89cc\">\n",
              "    <div class=\"colab-df-container\">\n",
              "      <div>\n",
              "<style scoped>\n",
              "    .dataframe tbody tr th:only-of-type {\n",
              "        vertical-align: middle;\n",
              "    }\n",
              "\n",
              "    .dataframe tbody tr th {\n",
              "        vertical-align: top;\n",
              "    }\n",
              "\n",
              "    .dataframe thead th {\n",
              "        text-align: right;\n",
              "    }\n",
              "</style>\n",
              "<table border=\"1\" class=\"dataframe\">\n",
              "  <thead>\n",
              "    <tr style=\"text-align: right;\">\n",
              "      <th></th>\n",
              "      <th>ARREST_KEY</th>\n",
              "      <th>ARREST_DATE</th>\n",
              "      <th>PD_DESC</th>\n",
              "      <th>OFNS_DESC</th>\n",
              "      <th>ARREST_BORO</th>\n",
              "      <th>ARREST_PRECINCT</th>\n",
              "      <th>AGE_GROUP</th>\n",
              "      <th>PERP_SEX</th>\n",
              "      <th>PERP_RACE</th>\n",
              "      <th>X_COORD_CD</th>\n",
              "      <th>Y_COORD_CD</th>\n",
              "      <th>Latitude</th>\n",
              "      <th>Longitude</th>\n",
              "    </tr>\n",
              "  </thead>\n",
              "  <tbody>\n",
              "    <tr>\n",
              "      <th>0</th>\n",
              "      <td>238013474</td>\n",
              "      <td>12/18/2021</td>\n",
              "      <td>RAPE 1</td>\n",
              "      <td>RAPE</td>\n",
              "      <td>Q</td>\n",
              "      <td>105</td>\n",
              "      <td>18-24</td>\n",
              "      <td>M</td>\n",
              "      <td>BLACK</td>\n",
              "      <td>1057636</td>\n",
              "      <td>203954</td>\n",
              "      <td>40.726187</td>\n",
              "      <td>-73.735234</td>\n",
              "    </tr>\n",
              "    <tr>\n",
              "      <th>1</th>\n",
              "      <td>236943583</td>\n",
              "      <td>11/25/2021</td>\n",
              "      <td>ARSON 2,3,4</td>\n",
              "      <td>ARSON</td>\n",
              "      <td>K</td>\n",
              "      <td>69</td>\n",
              "      <td>25-44</td>\n",
              "      <td>M</td>\n",
              "      <td>BLACK</td>\n",
              "      <td>1014340</td>\n",
              "      <td>171320</td>\n",
              "      <td>40.636868</td>\n",
              "      <td>-73.891586</td>\n",
              "    </tr>\n",
              "    <tr>\n",
              "      <th>2</th>\n",
              "      <td>234938876</td>\n",
              "      <td>10/14/2021</td>\n",
              "      <td>OBSCENITY 1</td>\n",
              "      <td>SEX CRIMES</td>\n",
              "      <td>K</td>\n",
              "      <td>61</td>\n",
              "      <td>25-44</td>\n",
              "      <td>M</td>\n",
              "      <td>WHITE</td>\n",
              "      <td>995244</td>\n",
              "      <td>155739</td>\n",
              "      <td>40.594145</td>\n",
              "      <td>-73.960415</td>\n",
              "    </tr>\n",
              "    <tr>\n",
              "      <th>3</th>\n",
              "      <td>234788259</td>\n",
              "      <td>10/11/2021</td>\n",
              "      <td>ARSON 2,3,4</td>\n",
              "      <td>ARSON</td>\n",
              "      <td>B</td>\n",
              "      <td>42</td>\n",
              "      <td>18-24</td>\n",
              "      <td>M</td>\n",
              "      <td>BLACK</td>\n",
              "      <td>1009058</td>\n",
              "      <td>239616</td>\n",
              "      <td>40.824340</td>\n",
              "      <td>-73.910365</td>\n",
              "    </tr>\n",
              "    <tr>\n",
              "      <th>4</th>\n",
              "      <td>234188790</td>\n",
              "      <td>9/28/2021</td>\n",
              "      <td>NaN</td>\n",
              "      <td>NaN</td>\n",
              "      <td>B</td>\n",
              "      <td>44</td>\n",
              "      <td>25-44</td>\n",
              "      <td>M</td>\n",
              "      <td>BLACK</td>\n",
              "      <td>1005169</td>\n",
              "      <td>246667</td>\n",
              "      <td>40.843703</td>\n",
              "      <td>-73.924395</td>\n",
              "    </tr>\n",
              "  </tbody>\n",
              "</table>\n",
              "</div>\n",
              "      <button class=\"colab-df-convert\" onclick=\"convertToInteractive('df-dc0e0e73-3fa3-4731-b788-6028f4ab89cc')\"\n",
              "              title=\"Convert this dataframe to an interactive table.\"\n",
              "              style=\"display:none;\">\n",
              "        \n",
              "  <svg xmlns=\"http://www.w3.org/2000/svg\" height=\"24px\"viewBox=\"0 0 24 24\"\n",
              "       width=\"24px\">\n",
              "    <path d=\"M0 0h24v24H0V0z\" fill=\"none\"/>\n",
              "    <path d=\"M18.56 5.44l.94 2.06.94-2.06 2.06-.94-2.06-.94-.94-2.06-.94 2.06-2.06.94zm-11 1L8.5 8.5l.94-2.06 2.06-.94-2.06-.94L8.5 2.5l-.94 2.06-2.06.94zm10 10l.94 2.06.94-2.06 2.06-.94-2.06-.94-.94-2.06-.94 2.06-2.06.94z\"/><path d=\"M17.41 7.96l-1.37-1.37c-.4-.4-.92-.59-1.43-.59-.52 0-1.04.2-1.43.59L10.3 9.45l-7.72 7.72c-.78.78-.78 2.05 0 2.83L4 21.41c.39.39.9.59 1.41.59.51 0 1.02-.2 1.41-.59l7.78-7.78 2.81-2.81c.8-.78.8-2.07 0-2.86zM5.41 20L4 18.59l7.72-7.72 1.47 1.35L5.41 20z\"/>\n",
              "  </svg>\n",
              "      </button>\n",
              "      \n",
              "  <style>\n",
              "    .colab-df-container {\n",
              "      display:flex;\n",
              "      flex-wrap:wrap;\n",
              "      gap: 12px;\n",
              "    }\n",
              "\n",
              "    .colab-df-convert {\n",
              "      background-color: #E8F0FE;\n",
              "      border: none;\n",
              "      border-radius: 50%;\n",
              "      cursor: pointer;\n",
              "      display: none;\n",
              "      fill: #1967D2;\n",
              "      height: 32px;\n",
              "      padding: 0 0 0 0;\n",
              "      width: 32px;\n",
              "    }\n",
              "\n",
              "    .colab-df-convert:hover {\n",
              "      background-color: #E2EBFA;\n",
              "      box-shadow: 0px 1px 2px rgba(60, 64, 67, 0.3), 0px 1px 3px 1px rgba(60, 64, 67, 0.15);\n",
              "      fill: #174EA6;\n",
              "    }\n",
              "\n",
              "    [theme=dark] .colab-df-convert {\n",
              "      background-color: #3B4455;\n",
              "      fill: #D2E3FC;\n",
              "    }\n",
              "\n",
              "    [theme=dark] .colab-df-convert:hover {\n",
              "      background-color: #434B5C;\n",
              "      box-shadow: 0px 1px 3px 1px rgba(0, 0, 0, 0.15);\n",
              "      filter: drop-shadow(0px 1px 2px rgba(0, 0, 0, 0.3));\n",
              "      fill: #FFFFFF;\n",
              "    }\n",
              "  </style>\n",
              "\n",
              "      <script>\n",
              "        const buttonEl =\n",
              "          document.querySelector('#df-dc0e0e73-3fa3-4731-b788-6028f4ab89cc button.colab-df-convert');\n",
              "        buttonEl.style.display =\n",
              "          google.colab.kernel.accessAllowed ? 'block' : 'none';\n",
              "\n",
              "        async function convertToInteractive(key) {\n",
              "          const element = document.querySelector('#df-dc0e0e73-3fa3-4731-b788-6028f4ab89cc');\n",
              "          const dataTable =\n",
              "            await google.colab.kernel.invokeFunction('convertToInteractive',\n",
              "                                                     [key], {});\n",
              "          if (!dataTable) return;\n",
              "\n",
              "          const docLinkHtml = 'Like what you see? Visit the ' +\n",
              "            '<a target=\"_blank\" href=https://colab.research.google.com/notebooks/data_table.ipynb>data table notebook</a>'\n",
              "            + ' to learn more about interactive tables.';\n",
              "          element.innerHTML = '';\n",
              "          dataTable['output_type'] = 'display_data';\n",
              "          await google.colab.output.renderOutput(dataTable, element);\n",
              "          const docLink = document.createElement('div');\n",
              "          docLink.innerHTML = docLinkHtml;\n",
              "          element.appendChild(docLink);\n",
              "        }\n",
              "      </script>\n",
              "    </div>\n",
              "  </div>\n",
              "  "
            ],
            "text/plain": [
              "   ARREST_KEY ARREST_DATE      PD_DESC   OFNS_DESC ARREST_BORO  \\\n",
              "0   238013474  12/18/2021       RAPE 1        RAPE           Q   \n",
              "1   236943583  11/25/2021  ARSON 2,3,4       ARSON           K   \n",
              "2   234938876  10/14/2021  OBSCENITY 1  SEX CRIMES           K   \n",
              "3   234788259  10/11/2021  ARSON 2,3,4       ARSON           B   \n",
              "4   234188790   9/28/2021          NaN         NaN           B   \n",
              "\n",
              "   ARREST_PRECINCT AGE_GROUP PERP_SEX PERP_RACE  X_COORD_CD  Y_COORD_CD  \\\n",
              "0              105     18-24        M     BLACK     1057636      203954   \n",
              "1               69     25-44        M     BLACK     1014340      171320   \n",
              "2               61     25-44        M     WHITE      995244      155739   \n",
              "3               42     18-24        M     BLACK     1009058      239616   \n",
              "4               44     25-44        M     BLACK     1005169      246667   \n",
              "\n",
              "    Latitude  Longitude  \n",
              "0  40.726187 -73.735234  \n",
              "1  40.636868 -73.891586  \n",
              "2  40.594145 -73.960415  \n",
              "3  40.824340 -73.910365  \n",
              "4  40.843703 -73.924395  "
            ]
          },
          "metadata": {},
          "execution_count": 9
        }
      ]
    },
    {
      "cell_type": "code",
      "source": [
        "#checking null values\n",
        "df.isnull()"
      ],
      "metadata": {
        "colab": {
          "base_uri": "https://localhost:8080/",
          "height": 424
        },
        "id": "2JXCC9fFE1FC",
        "outputId": "5a3c4a5b-5a4a-40ca-8e63-71d3acb533df"
      },
      "execution_count": 10,
      "outputs": [
        {
          "output_type": "execute_result",
          "data": {
            "text/html": [
              "\n",
              "  <div id=\"df-7e0d76ca-84ab-48da-b788-5cca548ae5af\">\n",
              "    <div class=\"colab-df-container\">\n",
              "      <div>\n",
              "<style scoped>\n",
              "    .dataframe tbody tr th:only-of-type {\n",
              "        vertical-align: middle;\n",
              "    }\n",
              "\n",
              "    .dataframe tbody tr th {\n",
              "        vertical-align: top;\n",
              "    }\n",
              "\n",
              "    .dataframe thead th {\n",
              "        text-align: right;\n",
              "    }\n",
              "</style>\n",
              "<table border=\"1\" class=\"dataframe\">\n",
              "  <thead>\n",
              "    <tr style=\"text-align: right;\">\n",
              "      <th></th>\n",
              "      <th>ARREST_KEY</th>\n",
              "      <th>ARREST_DATE</th>\n",
              "      <th>PD_DESC</th>\n",
              "      <th>OFNS_DESC</th>\n",
              "      <th>ARREST_BORO</th>\n",
              "      <th>ARREST_PRECINCT</th>\n",
              "      <th>AGE_GROUP</th>\n",
              "      <th>PERP_SEX</th>\n",
              "      <th>PERP_RACE</th>\n",
              "      <th>X_COORD_CD</th>\n",
              "      <th>Y_COORD_CD</th>\n",
              "      <th>Latitude</th>\n",
              "      <th>Longitude</th>\n",
              "    </tr>\n",
              "  </thead>\n",
              "  <tbody>\n",
              "    <tr>\n",
              "      <th>0</th>\n",
              "      <td>False</td>\n",
              "      <td>False</td>\n",
              "      <td>False</td>\n",
              "      <td>False</td>\n",
              "      <td>False</td>\n",
              "      <td>False</td>\n",
              "      <td>False</td>\n",
              "      <td>False</td>\n",
              "      <td>False</td>\n",
              "      <td>False</td>\n",
              "      <td>False</td>\n",
              "      <td>False</td>\n",
              "      <td>False</td>\n",
              "    </tr>\n",
              "    <tr>\n",
              "      <th>1</th>\n",
              "      <td>False</td>\n",
              "      <td>False</td>\n",
              "      <td>False</td>\n",
              "      <td>False</td>\n",
              "      <td>False</td>\n",
              "      <td>False</td>\n",
              "      <td>False</td>\n",
              "      <td>False</td>\n",
              "      <td>False</td>\n",
              "      <td>False</td>\n",
              "      <td>False</td>\n",
              "      <td>False</td>\n",
              "      <td>False</td>\n",
              "    </tr>\n",
              "    <tr>\n",
              "      <th>2</th>\n",
              "      <td>False</td>\n",
              "      <td>False</td>\n",
              "      <td>False</td>\n",
              "      <td>False</td>\n",
              "      <td>False</td>\n",
              "      <td>False</td>\n",
              "      <td>False</td>\n",
              "      <td>False</td>\n",
              "      <td>False</td>\n",
              "      <td>False</td>\n",
              "      <td>False</td>\n",
              "      <td>False</td>\n",
              "      <td>False</td>\n",
              "    </tr>\n",
              "    <tr>\n",
              "      <th>3</th>\n",
              "      <td>False</td>\n",
              "      <td>False</td>\n",
              "      <td>False</td>\n",
              "      <td>False</td>\n",
              "      <td>False</td>\n",
              "      <td>False</td>\n",
              "      <td>False</td>\n",
              "      <td>False</td>\n",
              "      <td>False</td>\n",
              "      <td>False</td>\n",
              "      <td>False</td>\n",
              "      <td>False</td>\n",
              "      <td>False</td>\n",
              "    </tr>\n",
              "    <tr>\n",
              "      <th>4</th>\n",
              "      <td>False</td>\n",
              "      <td>False</td>\n",
              "      <td>True</td>\n",
              "      <td>True</td>\n",
              "      <td>False</td>\n",
              "      <td>False</td>\n",
              "      <td>False</td>\n",
              "      <td>False</td>\n",
              "      <td>False</td>\n",
              "      <td>False</td>\n",
              "      <td>False</td>\n",
              "      <td>False</td>\n",
              "      <td>False</td>\n",
              "    </tr>\n",
              "    <tr>\n",
              "      <th>...</th>\n",
              "      <td>...</td>\n",
              "      <td>...</td>\n",
              "      <td>...</td>\n",
              "      <td>...</td>\n",
              "      <td>...</td>\n",
              "      <td>...</td>\n",
              "      <td>...</td>\n",
              "      <td>...</td>\n",
              "      <td>...</td>\n",
              "      <td>...</td>\n",
              "      <td>...</td>\n",
              "      <td>...</td>\n",
              "      <td>...</td>\n",
              "    </tr>\n",
              "    <tr>\n",
              "      <th>155502</th>\n",
              "      <td>False</td>\n",
              "      <td>False</td>\n",
              "      <td>False</td>\n",
              "      <td>False</td>\n",
              "      <td>False</td>\n",
              "      <td>False</td>\n",
              "      <td>False</td>\n",
              "      <td>False</td>\n",
              "      <td>False</td>\n",
              "      <td>False</td>\n",
              "      <td>False</td>\n",
              "      <td>False</td>\n",
              "      <td>False</td>\n",
              "    </tr>\n",
              "    <tr>\n",
              "      <th>155503</th>\n",
              "      <td>False</td>\n",
              "      <td>False</td>\n",
              "      <td>False</td>\n",
              "      <td>False</td>\n",
              "      <td>False</td>\n",
              "      <td>False</td>\n",
              "      <td>False</td>\n",
              "      <td>False</td>\n",
              "      <td>False</td>\n",
              "      <td>False</td>\n",
              "      <td>False</td>\n",
              "      <td>False</td>\n",
              "      <td>False</td>\n",
              "    </tr>\n",
              "    <tr>\n",
              "      <th>155504</th>\n",
              "      <td>False</td>\n",
              "      <td>False</td>\n",
              "      <td>False</td>\n",
              "      <td>False</td>\n",
              "      <td>False</td>\n",
              "      <td>False</td>\n",
              "      <td>False</td>\n",
              "      <td>False</td>\n",
              "      <td>False</td>\n",
              "      <td>False</td>\n",
              "      <td>False</td>\n",
              "      <td>False</td>\n",
              "      <td>False</td>\n",
              "    </tr>\n",
              "    <tr>\n",
              "      <th>155505</th>\n",
              "      <td>False</td>\n",
              "      <td>False</td>\n",
              "      <td>False</td>\n",
              "      <td>False</td>\n",
              "      <td>False</td>\n",
              "      <td>False</td>\n",
              "      <td>False</td>\n",
              "      <td>False</td>\n",
              "      <td>False</td>\n",
              "      <td>False</td>\n",
              "      <td>False</td>\n",
              "      <td>False</td>\n",
              "      <td>False</td>\n",
              "    </tr>\n",
              "    <tr>\n",
              "      <th>155506</th>\n",
              "      <td>False</td>\n",
              "      <td>False</td>\n",
              "      <td>False</td>\n",
              "      <td>False</td>\n",
              "      <td>False</td>\n",
              "      <td>False</td>\n",
              "      <td>False</td>\n",
              "      <td>False</td>\n",
              "      <td>False</td>\n",
              "      <td>False</td>\n",
              "      <td>False</td>\n",
              "      <td>False</td>\n",
              "      <td>False</td>\n",
              "    </tr>\n",
              "  </tbody>\n",
              "</table>\n",
              "<p>155507 rows × 13 columns</p>\n",
              "</div>\n",
              "      <button class=\"colab-df-convert\" onclick=\"convertToInteractive('df-7e0d76ca-84ab-48da-b788-5cca548ae5af')\"\n",
              "              title=\"Convert this dataframe to an interactive table.\"\n",
              "              style=\"display:none;\">\n",
              "        \n",
              "  <svg xmlns=\"http://www.w3.org/2000/svg\" height=\"24px\"viewBox=\"0 0 24 24\"\n",
              "       width=\"24px\">\n",
              "    <path d=\"M0 0h24v24H0V0z\" fill=\"none\"/>\n",
              "    <path d=\"M18.56 5.44l.94 2.06.94-2.06 2.06-.94-2.06-.94-.94-2.06-.94 2.06-2.06.94zm-11 1L8.5 8.5l.94-2.06 2.06-.94-2.06-.94L8.5 2.5l-.94 2.06-2.06.94zm10 10l.94 2.06.94-2.06 2.06-.94-2.06-.94-.94-2.06-.94 2.06-2.06.94z\"/><path d=\"M17.41 7.96l-1.37-1.37c-.4-.4-.92-.59-1.43-.59-.52 0-1.04.2-1.43.59L10.3 9.45l-7.72 7.72c-.78.78-.78 2.05 0 2.83L4 21.41c.39.39.9.59 1.41.59.51 0 1.02-.2 1.41-.59l7.78-7.78 2.81-2.81c.8-.78.8-2.07 0-2.86zM5.41 20L4 18.59l7.72-7.72 1.47 1.35L5.41 20z\"/>\n",
              "  </svg>\n",
              "      </button>\n",
              "      \n",
              "  <style>\n",
              "    .colab-df-container {\n",
              "      display:flex;\n",
              "      flex-wrap:wrap;\n",
              "      gap: 12px;\n",
              "    }\n",
              "\n",
              "    .colab-df-convert {\n",
              "      background-color: #E8F0FE;\n",
              "      border: none;\n",
              "      border-radius: 50%;\n",
              "      cursor: pointer;\n",
              "      display: none;\n",
              "      fill: #1967D2;\n",
              "      height: 32px;\n",
              "      padding: 0 0 0 0;\n",
              "      width: 32px;\n",
              "    }\n",
              "\n",
              "    .colab-df-convert:hover {\n",
              "      background-color: #E2EBFA;\n",
              "      box-shadow: 0px 1px 2px rgba(60, 64, 67, 0.3), 0px 1px 3px 1px rgba(60, 64, 67, 0.15);\n",
              "      fill: #174EA6;\n",
              "    }\n",
              "\n",
              "    [theme=dark] .colab-df-convert {\n",
              "      background-color: #3B4455;\n",
              "      fill: #D2E3FC;\n",
              "    }\n",
              "\n",
              "    [theme=dark] .colab-df-convert:hover {\n",
              "      background-color: #434B5C;\n",
              "      box-shadow: 0px 1px 3px 1px rgba(0, 0, 0, 0.15);\n",
              "      filter: drop-shadow(0px 1px 2px rgba(0, 0, 0, 0.3));\n",
              "      fill: #FFFFFF;\n",
              "    }\n",
              "  </style>\n",
              "\n",
              "      <script>\n",
              "        const buttonEl =\n",
              "          document.querySelector('#df-7e0d76ca-84ab-48da-b788-5cca548ae5af button.colab-df-convert');\n",
              "        buttonEl.style.display =\n",
              "          google.colab.kernel.accessAllowed ? 'block' : 'none';\n",
              "\n",
              "        async function convertToInteractive(key) {\n",
              "          const element = document.querySelector('#df-7e0d76ca-84ab-48da-b788-5cca548ae5af');\n",
              "          const dataTable =\n",
              "            await google.colab.kernel.invokeFunction('convertToInteractive',\n",
              "                                                     [key], {});\n",
              "          if (!dataTable) return;\n",
              "\n",
              "          const docLinkHtml = 'Like what you see? Visit the ' +\n",
              "            '<a target=\"_blank\" href=https://colab.research.google.com/notebooks/data_table.ipynb>data table notebook</a>'\n",
              "            + ' to learn more about interactive tables.';\n",
              "          element.innerHTML = '';\n",
              "          dataTable['output_type'] = 'display_data';\n",
              "          await google.colab.output.renderOutput(dataTable, element);\n",
              "          const docLink = document.createElement('div');\n",
              "          docLink.innerHTML = docLinkHtml;\n",
              "          element.appendChild(docLink);\n",
              "        }\n",
              "      </script>\n",
              "    </div>\n",
              "  </div>\n",
              "  "
            ],
            "text/plain": [
              "        ARREST_KEY  ARREST_DATE  PD_DESC  OFNS_DESC  ARREST_BORO  \\\n",
              "0            False        False    False      False        False   \n",
              "1            False        False    False      False        False   \n",
              "2            False        False    False      False        False   \n",
              "3            False        False    False      False        False   \n",
              "4            False        False     True       True        False   \n",
              "...            ...          ...      ...        ...          ...   \n",
              "155502       False        False    False      False        False   \n",
              "155503       False        False    False      False        False   \n",
              "155504       False        False    False      False        False   \n",
              "155505       False        False    False      False        False   \n",
              "155506       False        False    False      False        False   \n",
              "\n",
              "        ARREST_PRECINCT  AGE_GROUP  PERP_SEX  PERP_RACE  X_COORD_CD  \\\n",
              "0                 False      False     False      False       False   \n",
              "1                 False      False     False      False       False   \n",
              "2                 False      False     False      False       False   \n",
              "3                 False      False     False      False       False   \n",
              "4                 False      False     False      False       False   \n",
              "...                 ...        ...       ...        ...         ...   \n",
              "155502            False      False     False      False       False   \n",
              "155503            False      False     False      False       False   \n",
              "155504            False      False     False      False       False   \n",
              "155505            False      False     False      False       False   \n",
              "155506            False      False     False      False       False   \n",
              "\n",
              "        Y_COORD_CD  Latitude  Longitude  \n",
              "0            False     False      False  \n",
              "1            False     False      False  \n",
              "2            False     False      False  \n",
              "3            False     False      False  \n",
              "4            False     False      False  \n",
              "...            ...       ...        ...  \n",
              "155502       False     False      False  \n",
              "155503       False     False      False  \n",
              "155504       False     False      False  \n",
              "155505       False     False      False  \n",
              "155506       False     False      False  \n",
              "\n",
              "[155507 rows x 13 columns]"
            ]
          },
          "metadata": {},
          "execution_count": 10
        }
      ]
    },
    {
      "cell_type": "code",
      "source": [
        "#dropped rows with null values; True= null values\n",
        "df.dropna(inplace=True)\n",
        "df"
      ],
      "metadata": {
        "colab": {
          "base_uri": "https://localhost:8080/",
          "height": 554
        },
        "id": "Cy_ZB73zE499",
        "outputId": "e30846c2-8120-430f-f580-5410d36fbbc2"
      },
      "execution_count": 11,
      "outputs": [
        {
          "output_type": "execute_result",
          "data": {
            "text/html": [
              "\n",
              "  <div id=\"df-842ac7f7-d7d9-428e-afbb-3c792544e427\">\n",
              "    <div class=\"colab-df-container\">\n",
              "      <div>\n",
              "<style scoped>\n",
              "    .dataframe tbody tr th:only-of-type {\n",
              "        vertical-align: middle;\n",
              "    }\n",
              "\n",
              "    .dataframe tbody tr th {\n",
              "        vertical-align: top;\n",
              "    }\n",
              "\n",
              "    .dataframe thead th {\n",
              "        text-align: right;\n",
              "    }\n",
              "</style>\n",
              "<table border=\"1\" class=\"dataframe\">\n",
              "  <thead>\n",
              "    <tr style=\"text-align: right;\">\n",
              "      <th></th>\n",
              "      <th>ARREST_KEY</th>\n",
              "      <th>ARREST_DATE</th>\n",
              "      <th>PD_DESC</th>\n",
              "      <th>OFNS_DESC</th>\n",
              "      <th>ARREST_BORO</th>\n",
              "      <th>ARREST_PRECINCT</th>\n",
              "      <th>AGE_GROUP</th>\n",
              "      <th>PERP_SEX</th>\n",
              "      <th>PERP_RACE</th>\n",
              "      <th>X_COORD_CD</th>\n",
              "      <th>Y_COORD_CD</th>\n",
              "      <th>Latitude</th>\n",
              "      <th>Longitude</th>\n",
              "    </tr>\n",
              "  </thead>\n",
              "  <tbody>\n",
              "    <tr>\n",
              "      <th>0</th>\n",
              "      <td>238013474</td>\n",
              "      <td>12/18/2021</td>\n",
              "      <td>RAPE 1</td>\n",
              "      <td>RAPE</td>\n",
              "      <td>Q</td>\n",
              "      <td>105</td>\n",
              "      <td>18-24</td>\n",
              "      <td>M</td>\n",
              "      <td>BLACK</td>\n",
              "      <td>1057636</td>\n",
              "      <td>203954</td>\n",
              "      <td>40.726187</td>\n",
              "      <td>-73.735234</td>\n",
              "    </tr>\n",
              "    <tr>\n",
              "      <th>1</th>\n",
              "      <td>236943583</td>\n",
              "      <td>11/25/2021</td>\n",
              "      <td>ARSON 2,3,4</td>\n",
              "      <td>ARSON</td>\n",
              "      <td>K</td>\n",
              "      <td>69</td>\n",
              "      <td>25-44</td>\n",
              "      <td>M</td>\n",
              "      <td>BLACK</td>\n",
              "      <td>1014340</td>\n",
              "      <td>171320</td>\n",
              "      <td>40.636868</td>\n",
              "      <td>-73.891586</td>\n",
              "    </tr>\n",
              "    <tr>\n",
              "      <th>2</th>\n",
              "      <td>234938876</td>\n",
              "      <td>10/14/2021</td>\n",
              "      <td>OBSCENITY 1</td>\n",
              "      <td>SEX CRIMES</td>\n",
              "      <td>K</td>\n",
              "      <td>61</td>\n",
              "      <td>25-44</td>\n",
              "      <td>M</td>\n",
              "      <td>WHITE</td>\n",
              "      <td>995244</td>\n",
              "      <td>155739</td>\n",
              "      <td>40.594145</td>\n",
              "      <td>-73.960415</td>\n",
              "    </tr>\n",
              "    <tr>\n",
              "      <th>3</th>\n",
              "      <td>234788259</td>\n",
              "      <td>10/11/2021</td>\n",
              "      <td>ARSON 2,3,4</td>\n",
              "      <td>ARSON</td>\n",
              "      <td>B</td>\n",
              "      <td>42</td>\n",
              "      <td>18-24</td>\n",
              "      <td>M</td>\n",
              "      <td>BLACK</td>\n",
              "      <td>1009058</td>\n",
              "      <td>239616</td>\n",
              "      <td>40.824340</td>\n",
              "      <td>-73.910365</td>\n",
              "    </tr>\n",
              "    <tr>\n",
              "      <th>5</th>\n",
              "      <td>234117071</td>\n",
              "      <td>9/27/2021</td>\n",
              "      <td>RAPE 1</td>\n",
              "      <td>RAPE</td>\n",
              "      <td>K</td>\n",
              "      <td>84</td>\n",
              "      <td>25-44</td>\n",
              "      <td>M</td>\n",
              "      <td>BLACK</td>\n",
              "      <td>989013</td>\n",
              "      <td>192652</td>\n",
              "      <td>40.695469</td>\n",
              "      <td>-73.982825</td>\n",
              "    </tr>\n",
              "    <tr>\n",
              "      <th>...</th>\n",
              "      <td>...</td>\n",
              "      <td>...</td>\n",
              "      <td>...</td>\n",
              "      <td>...</td>\n",
              "      <td>...</td>\n",
              "      <td>...</td>\n",
              "      <td>...</td>\n",
              "      <td>...</td>\n",
              "      <td>...</td>\n",
              "      <td>...</td>\n",
              "      <td>...</td>\n",
              "      <td>...</td>\n",
              "      <td>...</td>\n",
              "    </tr>\n",
              "    <tr>\n",
              "      <th>155502</th>\n",
              "      <td>222884924</td>\n",
              "      <td>1/10/2021</td>\n",
              "      <td>ROBBERY,OPEN AREA UNCLASSIFIED</td>\n",
              "      <td>ROBBERY</td>\n",
              "      <td>B</td>\n",
              "      <td>46</td>\n",
              "      <td>45-64</td>\n",
              "      <td>M</td>\n",
              "      <td>BLACK</td>\n",
              "      <td>1011432</td>\n",
              "      <td>247605</td>\n",
              "      <td>40.846260</td>\n",
              "      <td>-73.901755</td>\n",
              "    </tr>\n",
              "    <tr>\n",
              "      <th>155503</th>\n",
              "      <td>223918625</td>\n",
              "      <td>2/3/2021</td>\n",
              "      <td>WEAPONS POSSESSION 1 &amp; 2</td>\n",
              "      <td>DANGEROUS WEAPONS</td>\n",
              "      <td>K</td>\n",
              "      <td>67</td>\n",
              "      <td>18-24</td>\n",
              "      <td>M</td>\n",
              "      <td>BLACK</td>\n",
              "      <td>1004940</td>\n",
              "      <td>180941</td>\n",
              "      <td>40.663302</td>\n",
              "      <td>-73.925425</td>\n",
              "    </tr>\n",
              "    <tr>\n",
              "      <th>155504</th>\n",
              "      <td>224323770</td>\n",
              "      <td>2/13/2021</td>\n",
              "      <td>ASSAULT 3</td>\n",
              "      <td>ASSAULT 3 &amp; RELATED OFFENSES</td>\n",
              "      <td>S</td>\n",
              "      <td>121</td>\n",
              "      <td>45-64</td>\n",
              "      <td>M</td>\n",
              "      <td>BLACK</td>\n",
              "      <td>942825</td>\n",
              "      <td>166367</td>\n",
              "      <td>40.623227</td>\n",
              "      <td>-74.149227</td>\n",
              "    </tr>\n",
              "    <tr>\n",
              "      <th>155505</th>\n",
              "      <td>222599533</td>\n",
              "      <td>1/4/2021</td>\n",
              "      <td>WEAPONS POSSESSION 1 &amp; 2</td>\n",
              "      <td>DANGEROUS WEAPONS</td>\n",
              "      <td>K</td>\n",
              "      <td>73</td>\n",
              "      <td>25-44</td>\n",
              "      <td>M</td>\n",
              "      <td>BLACK</td>\n",
              "      <td>1007524</td>\n",
              "      <td>188555</td>\n",
              "      <td>40.684194</td>\n",
              "      <td>-73.916085</td>\n",
              "    </tr>\n",
              "    <tr>\n",
              "      <th>155506</th>\n",
              "      <td>224056881</td>\n",
              "      <td>2/6/2021</td>\n",
              "      <td>CRIMINAL MIS 2 &amp; 3</td>\n",
              "      <td>CRIMINAL MISCHIEF &amp; RELATED OF</td>\n",
              "      <td>Q</td>\n",
              "      <td>102</td>\n",
              "      <td>18-24</td>\n",
              "      <td>M</td>\n",
              "      <td>ASIAN / PACIFIC ISLANDER</td>\n",
              "      <td>1031414</td>\n",
              "      <td>190787</td>\n",
              "      <td>40.690226</td>\n",
              "      <td>-73.829932</td>\n",
              "    </tr>\n",
              "  </tbody>\n",
              "</table>\n",
              "<p>155404 rows × 13 columns</p>\n",
              "</div>\n",
              "      <button class=\"colab-df-convert\" onclick=\"convertToInteractive('df-842ac7f7-d7d9-428e-afbb-3c792544e427')\"\n",
              "              title=\"Convert this dataframe to an interactive table.\"\n",
              "              style=\"display:none;\">\n",
              "        \n",
              "  <svg xmlns=\"http://www.w3.org/2000/svg\" height=\"24px\"viewBox=\"0 0 24 24\"\n",
              "       width=\"24px\">\n",
              "    <path d=\"M0 0h24v24H0V0z\" fill=\"none\"/>\n",
              "    <path d=\"M18.56 5.44l.94 2.06.94-2.06 2.06-.94-2.06-.94-.94-2.06-.94 2.06-2.06.94zm-11 1L8.5 8.5l.94-2.06 2.06-.94-2.06-.94L8.5 2.5l-.94 2.06-2.06.94zm10 10l.94 2.06.94-2.06 2.06-.94-2.06-.94-.94-2.06-.94 2.06-2.06.94z\"/><path d=\"M17.41 7.96l-1.37-1.37c-.4-.4-.92-.59-1.43-.59-.52 0-1.04.2-1.43.59L10.3 9.45l-7.72 7.72c-.78.78-.78 2.05 0 2.83L4 21.41c.39.39.9.59 1.41.59.51 0 1.02-.2 1.41-.59l7.78-7.78 2.81-2.81c.8-.78.8-2.07 0-2.86zM5.41 20L4 18.59l7.72-7.72 1.47 1.35L5.41 20z\"/>\n",
              "  </svg>\n",
              "      </button>\n",
              "      \n",
              "  <style>\n",
              "    .colab-df-container {\n",
              "      display:flex;\n",
              "      flex-wrap:wrap;\n",
              "      gap: 12px;\n",
              "    }\n",
              "\n",
              "    .colab-df-convert {\n",
              "      background-color: #E8F0FE;\n",
              "      border: none;\n",
              "      border-radius: 50%;\n",
              "      cursor: pointer;\n",
              "      display: none;\n",
              "      fill: #1967D2;\n",
              "      height: 32px;\n",
              "      padding: 0 0 0 0;\n",
              "      width: 32px;\n",
              "    }\n",
              "\n",
              "    .colab-df-convert:hover {\n",
              "      background-color: #E2EBFA;\n",
              "      box-shadow: 0px 1px 2px rgba(60, 64, 67, 0.3), 0px 1px 3px 1px rgba(60, 64, 67, 0.15);\n",
              "      fill: #174EA6;\n",
              "    }\n",
              "\n",
              "    [theme=dark] .colab-df-convert {\n",
              "      background-color: #3B4455;\n",
              "      fill: #D2E3FC;\n",
              "    }\n",
              "\n",
              "    [theme=dark] .colab-df-convert:hover {\n",
              "      background-color: #434B5C;\n",
              "      box-shadow: 0px 1px 3px 1px rgba(0, 0, 0, 0.15);\n",
              "      filter: drop-shadow(0px 1px 2px rgba(0, 0, 0, 0.3));\n",
              "      fill: #FFFFFF;\n",
              "    }\n",
              "  </style>\n",
              "\n",
              "      <script>\n",
              "        const buttonEl =\n",
              "          document.querySelector('#df-842ac7f7-d7d9-428e-afbb-3c792544e427 button.colab-df-convert');\n",
              "        buttonEl.style.display =\n",
              "          google.colab.kernel.accessAllowed ? 'block' : 'none';\n",
              "\n",
              "        async function convertToInteractive(key) {\n",
              "          const element = document.querySelector('#df-842ac7f7-d7d9-428e-afbb-3c792544e427');\n",
              "          const dataTable =\n",
              "            await google.colab.kernel.invokeFunction('convertToInteractive',\n",
              "                                                     [key], {});\n",
              "          if (!dataTable) return;\n",
              "\n",
              "          const docLinkHtml = 'Like what you see? Visit the ' +\n",
              "            '<a target=\"_blank\" href=https://colab.research.google.com/notebooks/data_table.ipynb>data table notebook</a>'\n",
              "            + ' to learn more about interactive tables.';\n",
              "          element.innerHTML = '';\n",
              "          dataTable['output_type'] = 'display_data';\n",
              "          await google.colab.output.renderOutput(dataTable, element);\n",
              "          const docLink = document.createElement('div');\n",
              "          docLink.innerHTML = docLinkHtml;\n",
              "          element.appendChild(docLink);\n",
              "        }\n",
              "      </script>\n",
              "    </div>\n",
              "  </div>\n",
              "  "
            ],
            "text/plain": [
              "        ARREST_KEY ARREST_DATE                         PD_DESC  \\\n",
              "0        238013474  12/18/2021                          RAPE 1   \n",
              "1        236943583  11/25/2021                     ARSON 2,3,4   \n",
              "2        234938876  10/14/2021                     OBSCENITY 1   \n",
              "3        234788259  10/11/2021                     ARSON 2,3,4   \n",
              "5        234117071   9/27/2021                          RAPE 1   \n",
              "...            ...         ...                             ...   \n",
              "155502   222884924   1/10/2021  ROBBERY,OPEN AREA UNCLASSIFIED   \n",
              "155503   223918625    2/3/2021        WEAPONS POSSESSION 1 & 2   \n",
              "155504   224323770   2/13/2021                       ASSAULT 3   \n",
              "155505   222599533    1/4/2021        WEAPONS POSSESSION 1 & 2   \n",
              "155506   224056881    2/6/2021              CRIMINAL MIS 2 & 3   \n",
              "\n",
              "                             OFNS_DESC ARREST_BORO  ARREST_PRECINCT AGE_GROUP  \\\n",
              "0                                 RAPE           Q              105     18-24   \n",
              "1                                ARSON           K               69     25-44   \n",
              "2                           SEX CRIMES           K               61     25-44   \n",
              "3                                ARSON           B               42     18-24   \n",
              "5                                 RAPE           K               84     25-44   \n",
              "...                                ...         ...              ...       ...   \n",
              "155502                         ROBBERY           B               46     45-64   \n",
              "155503               DANGEROUS WEAPONS           K               67     18-24   \n",
              "155504    ASSAULT 3 & RELATED OFFENSES           S              121     45-64   \n",
              "155505               DANGEROUS WEAPONS           K               73     25-44   \n",
              "155506  CRIMINAL MISCHIEF & RELATED OF           Q              102     18-24   \n",
              "\n",
              "       PERP_SEX                 PERP_RACE  X_COORD_CD  Y_COORD_CD   Latitude  \\\n",
              "0             M                     BLACK     1057636      203954  40.726187   \n",
              "1             M                     BLACK     1014340      171320  40.636868   \n",
              "2             M                     WHITE      995244      155739  40.594145   \n",
              "3             M                     BLACK     1009058      239616  40.824340   \n",
              "5             M                     BLACK      989013      192652  40.695469   \n",
              "...         ...                       ...         ...         ...        ...   \n",
              "155502        M                     BLACK     1011432      247605  40.846260   \n",
              "155503        M                     BLACK     1004940      180941  40.663302   \n",
              "155504        M                     BLACK      942825      166367  40.623227   \n",
              "155505        M                     BLACK     1007524      188555  40.684194   \n",
              "155506        M  ASIAN / PACIFIC ISLANDER     1031414      190787  40.690226   \n",
              "\n",
              "        Longitude  \n",
              "0      -73.735234  \n",
              "1      -73.891586  \n",
              "2      -73.960415  \n",
              "3      -73.910365  \n",
              "5      -73.982825  \n",
              "...           ...  \n",
              "155502 -73.901755  \n",
              "155503 -73.925425  \n",
              "155504 -74.149227  \n",
              "155505 -73.916085  \n",
              "155506 -73.829932  \n",
              "\n",
              "[155404 rows x 13 columns]"
            ]
          },
          "metadata": {},
          "execution_count": 11
        }
      ]
    },
    {
      "cell_type": "code",
      "source": [
        "#wanted to see all the unique values under OFNS_DESC column\n",
        "print(df['OFNS_DESC'].unique())"
      ],
      "metadata": {
        "colab": {
          "base_uri": "https://localhost:8080/"
        },
        "id": "ClRjHCH4FEPa",
        "outputId": "a8786a0a-8d1d-47a6-f37f-a3cc5c08bc00"
      },
      "execution_count": 13,
      "outputs": [
        {
          "output_type": "stream",
          "name": "stdout",
          "text": [
            "['RAPE' 'ARSON' 'SEX CRIMES' 'ASSAULT 3 & RELATED OFFENSES'\n",
            " 'FELONY ASSAULT' 'DANGEROUS WEAPONS' 'MISCELLANEOUS PENAL LAW'\n",
            " 'PETIT LARCENY' 'GRAND LARCENY OF MOTOR VEHICLE' 'DANGEROUS DRUGS'\n",
            " 'NYS LAWS-UNCLASSIFIED FELONY' 'GRAND LARCENY'\n",
            " 'OTHER OFFENSES RELATED TO THEF' 'PROSTITUTION & RELATED OFFENSES'\n",
            " 'OFFENSES AGAINST PUBLIC ADMINI' 'ROBBERY' 'FOR OTHER AUTHORITIES'\n",
            " 'CRIMINAL MISCHIEF & RELATED OF' 'OTHER TRAFFIC INFRACTION' 'FORGERY'\n",
            " 'INTOXICATED & IMPAIRED DRIVING' 'MURDER & NON-NEGL. MANSLAUGHTE'\n",
            " 'UNAUTHORIZED USE OF A VEHICLE' 'BURGLARY' 'OFFENSES INVOLVING FRAUD'\n",
            " 'VEHICLE AND TRAFFIC LAWS' 'OFF. AGNST PUB ORD SENSBLTY &'\n",
            " 'THEFT OF SERVICES' 'CRIMINAL TRESPASS' 'POSSESSION OF STOLEN PROPERTY'\n",
            " 'OTHER STATE LAWS (NON PENAL LA' 'FRAUDULENT ACCOSTING'\n",
            " 'OFFENSES AGAINST THE PERSON' 'FRAUDS' 'OTHER STATE LAWS' 'THEFT-FRAUD'\n",
            " 'INTOXICATED/IMPAIRED DRIVING' 'GAMBLING' 'HOMICIDE-NEGLIGENT-VEHICLE'\n",
            " 'ADMINISTRATIVE CODE' \"BURGLAR'S TOOLS\" 'ALCOHOLIC BEVERAGE CONTROL LAW'\n",
            " 'ENDAN WELFARE INCOMP' 'PARKING OFFENSES'\n",
            " 'OFFENSES AGAINST PUBLIC SAFETY' 'JOSTLING' 'MOVING INFRACTIONS'\n",
            " 'KIDNAPPING & RELATED OFFENSES' 'KIDNAPPING'\n",
            " 'HOMICIDE-NEGLIGENT,UNCLASSIFIE' 'AGRICULTURE & MRKTS LAW-UNCLASSIFIED'\n",
            " 'OFFENSES RELATED TO CHILDREN' 'ANTICIPATORY OFFENSES' 'HARRASSMENT 2'\n",
            " 'DISORDERLY CONDUCT' 'OTHER STATE LAWS (NON PENAL LAW)'\n",
            " 'CHILD ABANDONMENT/NON SUPPORT' 'ESCAPE 3'\n",
            " 'LOITERING/GAMBLING (CARDS, DIC' 'KIDNAPPING AND RELATED OFFENSES'\n",
            " 'ADMINISTRATIVE CODES' 'FELONY SEX CRIMES' 'NEW YORK CITY HEALTH CODE']\n"
          ]
        }
      ]
    },
    {
      "cell_type": "code",
      "source": [
        "#checking to see if i'll have enough data to work with\n",
        "# number is too small\n",
        "df['OFNS_DESC'].value_counts()['ARSON']"
      ],
      "metadata": {
        "colab": {
          "base_uri": "https://localhost:8080/"
        },
        "id": "G1WNKYBiFabE",
        "outputId": "847ec229-9492-46b2-9293-b12e6aaaba5b"
      },
      "execution_count": 14,
      "outputs": [
        {
          "output_type": "execute_result",
          "data": {
            "text/plain": [
              "122"
            ]
          },
          "metadata": {},
          "execution_count": 14
        }
      ]
    },
    {
      "cell_type": "code",
      "source": [
        "#checking to see if i'll have enough data to work with part2\n",
        "# this number works\n",
        "df['OFNS_DESC'].value_counts()['DANGEROUS DRUGS']"
      ],
      "metadata": {
        "colab": {
          "base_uri": "https://localhost:8080/"
        },
        "id": "DfvFRhCHFetz",
        "outputId": "afcaa94e-9ba9-412b-bc90-acbd627dea86"
      },
      "execution_count": 15,
      "outputs": [
        {
          "output_type": "execute_result",
          "data": {
            "text/plain": [
              "10450"
            ]
          },
          "metadata": {},
          "execution_count": 15
        }
      ]
    },
    {
      "cell_type": "code",
      "source": [
        "# checking the values under 'PERP_RACE'\n",
        "print(df['PERP_RACE'].unique())"
      ],
      "metadata": {
        "colab": {
          "base_uri": "https://localhost:8080/"
        },
        "id": "VF-jwG8oFico",
        "outputId": "355b1089-6624-45e0-bcc2-f680133534ba"
      },
      "execution_count": 16,
      "outputs": [
        {
          "output_type": "stream",
          "name": "stdout",
          "text": [
            "['BLACK' 'WHITE' 'WHITE HISPANIC' 'ASIAN / PACIFIC ISLANDER'\n",
            " 'AMERICAN INDIAN/ALASKAN NATIVE' 'BLACK HISPANIC' 'UNKNOWN']\n"
          ]
        }
      ]
    },
    {
      "cell_type": "code",
      "source": [
        "#checking to see if i'll have enough data to work with part3\n",
        "df['PERP_RACE'].value_counts()['ASIAN / PACIFIC ISLANDER']"
      ],
      "metadata": {
        "colab": {
          "base_uri": "https://localhost:8080/"
        },
        "id": "qiyVQvnCF3q4",
        "outputId": "25681888-61da-4e58-f30c-b40cad17384b"
      },
      "execution_count": 17,
      "outputs": [
        {
          "output_type": "execute_result",
          "data": {
            "text/plain": [
              "8584"
            ]
          },
          "metadata": {},
          "execution_count": 17
        }
      ]
    },
    {
      "cell_type": "code",
      "source": [
        "#pull columns up for reference in renaming function\n",
        "df.info()"
      ],
      "metadata": {
        "colab": {
          "base_uri": "https://localhost:8080/"
        },
        "id": "rcc3USNcF6x6",
        "outputId": "a8add9ae-bc37-4b92-b0c0-9ab87b0a3d08"
      },
      "execution_count": 18,
      "outputs": [
        {
          "output_type": "stream",
          "name": "stdout",
          "text": [
            "<class 'pandas.core.frame.DataFrame'>\n",
            "Int64Index: 155404 entries, 0 to 155506\n",
            "Data columns (total 13 columns):\n",
            " #   Column           Non-Null Count   Dtype  \n",
            "---  ------           --------------   -----  \n",
            " 0   ARREST_KEY       155404 non-null  int64  \n",
            " 1   ARREST_DATE      155404 non-null  object \n",
            " 2   PD_DESC          155404 non-null  object \n",
            " 3   OFNS_DESC        155404 non-null  object \n",
            " 4   ARREST_BORO      155404 non-null  object \n",
            " 5   ARREST_PRECINCT  155404 non-null  int64  \n",
            " 6   AGE_GROUP        155404 non-null  object \n",
            " 7   PERP_SEX         155404 non-null  object \n",
            " 8   PERP_RACE        155404 non-null  object \n",
            " 9   X_COORD_CD       155404 non-null  int64  \n",
            " 10  Y_COORD_CD       155404 non-null  int64  \n",
            " 11  Latitude         155404 non-null  float64\n",
            " 12  Longitude        155404 non-null  float64\n",
            "dtypes: float64(2), int64(4), object(7)\n",
            "memory usage: 16.6+ MB\n"
          ]
        }
      ]
    },
    {
      "cell_type": "code",
      "source": [
        "#renaming columns\n",
        "df= df.rename(columns={\n",
        "    'ARREST_KEY' : 'key',\n",
        "    'ARREST_DATE' : 'arrestdt',\n",
        "    'OFNS_DESC' : 'desc',\n",
        "    'ARREST_BORO' : 'boro',\n",
        "    'ARREST_PRECINCT' : 'precinct',\n",
        "    'AGE_GROUP' : 'agegrp',\n",
        "    'PERP_SEX' : 'gender',\n",
        "    'PERP_RACE' : 'race',\n",
        "    'X_COORD_CD' : 'xcor',\n",
        "    'Y_COORD_CD' : 'ycor',\n",
        "    'Latitude' : 'lat',\n",
        "    'Longitude' : 'long'})"
      ],
      "metadata": {
        "id": "4sKMyBrsF-lo"
      },
      "execution_count": 46,
      "outputs": []
    },
    {
      "cell_type": "code",
      "source": [
        "# checking if change was applied correctly\n",
        "df.info()"
      ],
      "metadata": {
        "colab": {
          "base_uri": "https://localhost:8080/"
        },
        "id": "2_mXNtZXGldN",
        "outputId": "4be2474f-3ab0-4b28-dab5-0146fe4007d7"
      },
      "execution_count": 47,
      "outputs": [
        {
          "output_type": "stream",
          "name": "stdout",
          "text": [
            "<class 'pandas.core.frame.DataFrame'>\n",
            "Int64Index: 155404 entries, 0 to 155506\n",
            "Data columns (total 13 columns):\n",
            " #   Column    Non-Null Count   Dtype  \n",
            "---  ------    --------------   -----  \n",
            " 0   key       155404 non-null  int64  \n",
            " 1   arrestdt  155404 non-null  object \n",
            " 2   PD_DESC   155404 non-null  object \n",
            " 3   desc      155404 non-null  object \n",
            " 4   boro      155404 non-null  object \n",
            " 5   precinct  155404 non-null  int64  \n",
            " 6   agegrp    155404 non-null  object \n",
            " 7   gender    155404 non-null  object \n",
            " 8   race      155404 non-null  object \n",
            " 9   xcor      155404 non-null  int64  \n",
            " 10  ycor      155404 non-null  int64  \n",
            " 11  lat       155404 non-null  float64\n",
            " 12  long      155404 non-null  float64\n",
            "dtypes: float64(2), int64(4), object(7)\n",
            "memory usage: 20.6+ MB\n"
          ]
        }
      ]
    },
    {
      "cell_type": "code",
      "source": [
        "#wanted to see all the unique values under gender column\n",
        "print(df['gender'].unique())"
      ],
      "metadata": {
        "colab": {
          "base_uri": "https://localhost:8080/"
        },
        "id": "cv-P0L4pGqEE",
        "outputId": "e95d87cd-dffe-48aa-a70e-0d97000339f0"
      },
      "execution_count": 21,
      "outputs": [
        {
          "output_type": "stream",
          "name": "stdout",
          "text": [
            "['M' 'F']\n"
          ]
        }
      ]
    },
    {
      "cell_type": "code",
      "source": [
        "#wanted to see all the unique values under agegrp column\n",
        "print(df['agegrp'].unique())"
      ],
      "metadata": {
        "colab": {
          "base_uri": "https://localhost:8080/"
        },
        "id": "WMYRmBuwGxmh",
        "outputId": "95355ead-34dc-4852-c6f7-ce6f25923229"
      },
      "execution_count": 22,
      "outputs": [
        {
          "output_type": "stream",
          "name": "stdout",
          "text": [
            "['18-24' '25-44' '45-64' '65+' '<18']\n"
          ]
        }
      ]
    },
    {
      "cell_type": "code",
      "source": [
        "#plot shows that males are arrested 4x more than female \n",
        "sns.displot(df['gender'])\n",
        "plt.title('Number of Arrest by Gender')"
      ],
      "metadata": {
        "colab": {
          "base_uri": "https://localhost:8080/",
          "height": 402
        },
        "id": "FwSkNh9mG1HH",
        "outputId": "66b42c6b-554f-4718-b291-3d6cfce3e1dc"
      },
      "execution_count": 117,
      "outputs": [
        {
          "output_type": "execute_result",
          "data": {
            "text/plain": [
              "Text(0.5, 1.0, 'Number of Arrest by Gender')"
            ]
          },
          "metadata": {},
          "execution_count": 117
        },
        {
          "output_type": "display_data",
          "data": {
            "image/png": "[encoded data removed]",
            "text/plain": [
              "<Figure size 360x360 with 1 Axes>"
            ]
          },
          "metadata": {
            "needs_background": "light"
          }
        }
      ]
    },
    {
      "cell_type": "code",
      "source": [
        "#stats on number of arrest by age group\n",
        "# data shows that 25-44 age group has the highest arrest\n",
        "df.groupby(['agegrp'])['key'].count()"
      ],
      "metadata": {
        "colab": {
          "base_uri": "https://localhost:8080/"
        },
        "id": "8YM8_nGrs9M4",
        "outputId": "d771d56f-d458-4c45-afd6-8fe58c8d3056"
      },
      "execution_count": 127,
      "outputs": [
        {
          "output_type": "execute_result",
          "data": {
            "text/plain": [
              "agegrp\n",
              "18-24    28927\n",
              "25-44    88787\n",
              "45-64    30595\n",
              "65+       2296\n",
              "<18       4799\n",
              "Name: key, dtype: int64"
            ]
          },
          "metadata": {},
          "execution_count": 127
        }
      ]
    },
    {
      "cell_type": "code",
      "source": [
        "#plotted stats above\n",
        "sns.countplot(x=\"agegrp\", data=df, color=\"olive\")\n",
        "plt.title('Arrest by Age Group')"
      ],
      "metadata": {
        "colab": {
          "base_uri": "https://localhost:8080/",
          "height": 312
        },
        "id": "n71vp--4wQWF",
        "outputId": "51ac176a-a8a8-4c22-a141-cedc36ef97fc"
      },
      "execution_count": 129,
      "outputs": [
        {
          "output_type": "execute_result",
          "data": {
            "text/plain": [
              "Text(0.5, 1.0, 'Arrest by Age Group')"
            ]
          },
          "metadata": {},
          "execution_count": 129
        },
        {
          "output_type": "display_data",
          "data": {
            "image/png": "[encoded data removed]",
            "text/plain": [
              "<Figure size 432x288 with 1 Axes>"
            ]
          },
          "metadata": {
            "needs_background": "light"
          }
        }
      ]
    },
    {
      "cell_type": "code",
      "source": [
        "# isolating to only analyze Female\n",
        "dfa=df[(df['gender']=='F')]"
      ],
      "metadata": {
        "id": "YSLEkCj3Vuz2"
      },
      "execution_count": 60,
      "outputs": []
    },
    {
      "cell_type": "code",
      "source": [
        "# stats for breakdow of arrested females by borough\n",
        "#data shows Kings has the highest, but Bronx and Manhattan are not far behind\n",
        "dfa.groupby(['boro'])['gender'].count()"
      ],
      "metadata": {
        "colab": {
          "base_uri": "https://localhost:8080/"
        },
        "id": "SYhKY0cAVx8t",
        "outputId": "96e18d01-e81e-4cd2-8434-07cdf61055ca"
      },
      "execution_count": 61,
      "outputs": [
        {
          "output_type": "execute_result",
          "data": {
            "text/plain": [
              "boro\n",
              "B    6130\n",
              "K    6893\n",
              "M    6673\n",
              "Q    5607\n",
              "S    1284\n",
              "Name: gender, dtype: int64"
            ]
          },
          "metadata": {},
          "execution_count": 61
        }
      ]
    },
    {
      "cell_type": "code",
      "source": [
        "#plotted stats above\n",
        "dfa.groupby(['boro'])['gender'].count().plot(kind=\"bar\", color='pink')\n",
        "plt.title(\"Arrested Females by Borough\")"
      ],
      "metadata": {
        "colab": {
          "base_uri": "https://localhost:8080/",
          "height": 311
        },
        "id": "WN9n7wp5XM8f",
        "outputId": "c224abab-3337-48fa-9538-93674fecef77"
      },
      "execution_count": 69,
      "outputs": [
        {
          "output_type": "execute_result",
          "data": {
            "text/plain": [
              "Text(0.5, 1.0, 'Arrested Females by Borough')"
            ]
          },
          "metadata": {},
          "execution_count": 69
        },
        {
          "output_type": "display_data",
          "data": {
            "image/png": "[encoded data removed]",
            "text/plain": [
              "<Figure size 432x288 with 1 Axes>"
            ]
          },
          "metadata": {
            "needs_background": "light"
          }
        }
      ]
    },
    {
      "cell_type": "code",
      "source": [
        "#filtering to only analyze Males\n",
        "dfb=df[(df['gender']=='M')]"
      ],
      "metadata": {
        "id": "O6-ME_UyXfaA"
      },
      "execution_count": 63,
      "outputs": []
    },
    {
      "cell_type": "code",
      "source": [
        "# stats for breakdow of arrested males by borough\n",
        "#data shows Kings again has the highest with Manhattan not far behind\n",
        "dfb.groupby(['boro'])['gender'].count()"
      ],
      "metadata": {
        "colab": {
          "base_uri": "https://localhost:8080/"
        },
        "id": "zVlI1TGpXicv",
        "outputId": "e5c7f3d3-b1b0-43e7-ca14-5f2a581a365a"
      },
      "execution_count": 64,
      "outputs": [
        {
          "output_type": "execute_result",
          "data": {
            "text/plain": [
              "boro\n",
              "B    27871\n",
              "K    34631\n",
              "M    32974\n",
              "Q    27416\n",
              "S     5925\n",
              "Name: gender, dtype: int64"
            ]
          },
          "metadata": {},
          "execution_count": 64
        }
      ]
    },
    {
      "cell_type": "code",
      "source": [
        "dfb.groupby(['boro'])['gender'].count().plot(kind=\"bar\", color=\"aquamarine\")\n",
        "plt.title(\"Arrested Males by Borough\")"
      ],
      "metadata": {
        "colab": {
          "base_uri": "https://localhost:8080/",
          "height": 311
        },
        "id": "635yw_DJXnNR",
        "outputId": "279ebf8b-e6e0-4855-8f04-7181e7fa47e4"
      },
      "execution_count": 65,
      "outputs": [
        {
          "output_type": "execute_result",
          "data": {
            "text/plain": [
              "Text(0.5, 1.0, 'Arrested Males by Borough')"
            ]
          },
          "metadata": {},
          "execution_count": 65
        },
        {
          "output_type": "display_data",
          "data": {
            "image/png": "[encoded data removed]",
            "text/plain": [
              "<Figure size 432x288 with 1 Axes>"
            ]
          },
          "metadata": {
            "needs_background": "light"
          }
        }
      ]
    },
    {
      "cell_type": "code",
      "source": [
        "#combining stats between Males and Females arrests by borough\n",
        "dfa.groupby(['boro'])['gender'].count(),dfb.groupby(['boro'])['gender'].count()"
      ],
      "metadata": {
        "colab": {
          "base_uri": "https://localhost:8080/"
        },
        "id": "kfvhgUIKXozF",
        "outputId": "86b985c5-d15e-44eb-d129-9a69df4a2118"
      },
      "execution_count": 66,
      "outputs": [
        {
          "output_type": "execute_result",
          "data": {
            "text/plain": [
              "(boro\n",
              " B    6130\n",
              " K    6893\n",
              " M    6673\n",
              " Q    5607\n",
              " S    1284\n",
              " Name: gender, dtype: int64, boro\n",
              " B    27871\n",
              " K    34631\n",
              " M    32974\n",
              " Q    27416\n",
              " S     5925\n",
              " Name: gender, dtype: int64)"
            ]
          },
          "metadata": {},
          "execution_count": 66
        }
      ]
    },
    {
      "cell_type": "code",
      "source": [
        "#plotting the combined stats\n",
        "labels = ['B', 'K', 'M', 'Q', 'S']\n",
        "male_means = [5608, 6730, 6913, 5508, 1165]\n",
        "female_means = [1304, 1449, 1359, 1104, 304]\n",
        "x = np.arange(len(labels))  \n",
        "width = 0.50  \n",
        "fig, ax = plt.subplots()\n",
        "rects1 = ax.bar(x - width/2, male_means, width, label='Male', color='aquamarine')\n",
        "rects2 = ax.bar(x + width/2, female_means, width, label='Female', color='pink')\n",
        "ax.set_xlabel('Borough 0=B, 1=K, 2=M, 3=Q, 4=S')\n",
        "ax.set_title('Arrests by Gender By Borough')\n",
        "ax.set_xticks(x, labels)\n",
        "ax.legend()\n",
        "fig.tight_layout()\n",
        "plt.show()"
      ],
      "metadata": {
        "colab": {
          "base_uri": "https://localhost:8080/",
          "height": 352
        },
        "id": "Q7uIXWREXtjY",
        "outputId": "421d5e80-80a9-412b-dfd4-b83db61c0afc"
      },
      "execution_count": 70,
      "outputs": [
        {
          "output_type": "stream",
          "name": "stderr",
          "text": [
            "/usr/local/lib/python3.7/dist-packages/ipykernel_launcher.py:12: MatplotlibDeprecationWarning: Passing the minor parameter of set_xticks() positionally is deprecated since Matplotlib 3.2; the parameter will become keyword-only two minor releases later.\n",
            "  if sys.path[0] == '':\n"
          ]
        },
        {
          "output_type": "display_data",
          "data": {
            "image/png": "[encoded data removed]",
            "text/plain": [
              "<Figure size 432x288 with 1 Axes>"
            ]
          },
          "metadata": {
            "needs_background": "light"
          }
        }
      ]
    },
    {
      "cell_type": "code",
      "source": [
        "# filtering to only analyze desc = dangerous drugs and race = asian/pacific islander\n",
        "df2=df[(df['desc']=='DANGEROUS DRUGS') & (df['race']=='ASIAN / PACIFIC ISLANDER')]"
      ],
      "metadata": {
        "id": "-jhLN-f6hmJT"
      },
      "execution_count": 73,
      "outputs": []
    },
    {
      "cell_type": "code",
      "source": [
        "# checking if filtered correctly\n",
        "df2.head(5)"
      ],
      "metadata": {
        "colab": {
          "base_uri": "https://localhost:8080/",
          "height": 206
        },
        "id": "tJQv4XsDhnaS",
        "outputId": "d4a3b6c4-8100-4d8d-9490-4a4fe4ef917c"
      },
      "execution_count": 74,
      "outputs": [
        {
          "output_type": "execute_result",
          "data": {
            "text/html": [
              "\n",
              "  <div id=\"df-15d8d5d9-103a-4dae-9530-1d64dcf1027b\">\n",
              "    <div class=\"colab-df-container\">\n",
              "      <div>\n",
              "<style scoped>\n",
              "    .dataframe tbody tr th:only-of-type {\n",
              "        vertical-align: middle;\n",
              "    }\n",
              "\n",
              "    .dataframe tbody tr th {\n",
              "        vertical-align: top;\n",
              "    }\n",
              "\n",
              "    .dataframe thead th {\n",
              "        text-align: right;\n",
              "    }\n",
              "</style>\n",
              "<table border=\"1\" class=\"dataframe\">\n",
              "  <thead>\n",
              "    <tr style=\"text-align: right;\">\n",
              "      <th></th>\n",
              "      <th>key</th>\n",
              "      <th>arrestdt</th>\n",
              "      <th>PD_DESC</th>\n",
              "      <th>desc</th>\n",
              "      <th>boro</th>\n",
              "      <th>precinct</th>\n",
              "      <th>agegrp</th>\n",
              "      <th>gender</th>\n",
              "      <th>race</th>\n",
              "      <th>xcor</th>\n",
              "      <th>ycor</th>\n",
              "      <th>lat</th>\n",
              "      <th>long</th>\n",
              "    </tr>\n",
              "  </thead>\n",
              "  <tbody>\n",
              "    <tr>\n",
              "      <th>330</th>\n",
              "      <td>237018766</td>\n",
              "      <td>11/28/2021</td>\n",
              "      <td>CONTROLLED SUBSTANCE, POSSESSI</td>\n",
              "      <td>DANGEROUS DRUGS</td>\n",
              "      <td>K</td>\n",
              "      <td>72</td>\n",
              "      <td>25-44</td>\n",
              "      <td>M</td>\n",
              "      <td>ASIAN / PACIFIC ISLANDER</td>\n",
              "      <td>980513</td>\n",
              "      <td>171319</td>\n",
              "      <td>40.636915</td>\n",
              "      <td>-74.013466</td>\n",
              "    </tr>\n",
              "    <tr>\n",
              "      <th>1128</th>\n",
              "      <td>237985119</td>\n",
              "      <td>12/17/2021</td>\n",
              "      <td>CONTROLLED SUBSTANCE, POSSESSI</td>\n",
              "      <td>DANGEROUS DRUGS</td>\n",
              "      <td>K</td>\n",
              "      <td>72</td>\n",
              "      <td>25-44</td>\n",
              "      <td>M</td>\n",
              "      <td>ASIAN / PACIFIC ISLANDER</td>\n",
              "      <td>982394</td>\n",
              "      <td>171182</td>\n",
              "      <td>40.636540</td>\n",
              "      <td>-74.006689</td>\n",
              "    </tr>\n",
              "    <tr>\n",
              "      <th>1752</th>\n",
              "      <td>237537062</td>\n",
              "      <td>12/8/2021</td>\n",
              "      <td>CONTROLLED SUBSTANCE, POSSESSI</td>\n",
              "      <td>DANGEROUS DRUGS</td>\n",
              "      <td>M</td>\n",
              "      <td>28</td>\n",
              "      <td>25-44</td>\n",
              "      <td>M</td>\n",
              "      <td>ASIAN / PACIFIC ISLANDER</td>\n",
              "      <td>999342</td>\n",
              "      <td>233575</td>\n",
              "      <td>40.807781</td>\n",
              "      <td>-73.945485</td>\n",
              "    </tr>\n",
              "    <tr>\n",
              "      <th>2822</th>\n",
              "      <td>238492241</td>\n",
              "      <td>12/31/2021</td>\n",
              "      <td>CONTROLLED SUBSTANCE, INTENT T</td>\n",
              "      <td>DANGEROUS DRUGS</td>\n",
              "      <td>Q</td>\n",
              "      <td>109</td>\n",
              "      <td>45-64</td>\n",
              "      <td>M</td>\n",
              "      <td>ASIAN / PACIFIC ISLANDER</td>\n",
              "      <td>1035455</td>\n",
              "      <td>217367</td>\n",
              "      <td>40.763159</td>\n",
              "      <td>-73.815158</td>\n",
              "    </tr>\n",
              "    <tr>\n",
              "      <th>2859</th>\n",
              "      <td>237060467</td>\n",
              "      <td>11/29/2021</td>\n",
              "      <td>CONTROLLED SUBSTANCE,INTENT TO</td>\n",
              "      <td>DANGEROUS DRUGS</td>\n",
              "      <td>M</td>\n",
              "      <td>14</td>\n",
              "      <td>25-44</td>\n",
              "      <td>M</td>\n",
              "      <td>ASIAN / PACIFIC ISLANDER</td>\n",
              "      <td>987341</td>\n",
              "      <td>215631</td>\n",
              "      <td>40.758541</td>\n",
              "      <td>-73.988844</td>\n",
              "    </tr>\n",
              "  </tbody>\n",
              "</table>\n",
              "</div>\n",
              "      <button class=\"colab-df-convert\" onclick=\"convertToInteractive('df-15d8d5d9-103a-4dae-9530-1d64dcf1027b')\"\n",
              "              title=\"Convert this dataframe to an interactive table.\"\n",
              "              style=\"display:none;\">\n",
              "        \n",
              "  <svg xmlns=\"http://www.w3.org/2000/svg\" height=\"24px\"viewBox=\"0 0 24 24\"\n",
              "       width=\"24px\">\n",
              "    <path d=\"M0 0h24v24H0V0z\" fill=\"none\"/>\n",
              "    <path d=\"M18.56 5.44l.94 2.06.94-2.06 2.06-.94-2.06-.94-.94-2.06-.94 2.06-2.06.94zm-11 1L8.5 8.5l.94-2.06 2.06-.94-2.06-.94L8.5 2.5l-.94 2.06-2.06.94zm10 10l.94 2.06.94-2.06 2.06-.94-2.06-.94-.94-2.06-.94 2.06-2.06.94z\"/><path d=\"M17.41 7.96l-1.37-1.37c-.4-.4-.92-.59-1.43-.59-.52 0-1.04.2-1.43.59L10.3 9.45l-7.72 7.72c-.78.78-.78 2.05 0 2.83L4 21.41c.39.39.9.59 1.41.59.51 0 1.02-.2 1.41-.59l7.78-7.78 2.81-2.81c.8-.78.8-2.07 0-2.86zM5.41 20L4 18.59l7.72-7.72 1.47 1.35L5.41 20z\"/>\n",
              "  </svg>\n",
              "      </button>\n",
              "      \n",
              "  <style>\n",
              "    .colab-df-container {\n",
              "      display:flex;\n",
              "      flex-wrap:wrap;\n",
              "      gap: 12px;\n",
              "    }\n",
              "\n",
              "    .colab-df-convert {\n",
              "      background-color: #E8F0FE;\n",
              "      border: none;\n",
              "      border-radius: 50%;\n",
              "      cursor: pointer;\n",
              "      display: none;\n",
              "      fill: #1967D2;\n",
              "      height: 32px;\n",
              "      padding: 0 0 0 0;\n",
              "      width: 32px;\n",
              "    }\n",
              "\n",
              "    .colab-df-convert:hover {\n",
              "      background-color: #E2EBFA;\n",
              "      box-shadow: 0px 1px 2px rgba(60, 64, 67, 0.3), 0px 1px 3px 1px rgba(60, 64, 67, 0.15);\n",
              "      fill: #174EA6;\n",
              "    }\n",
              "\n",
              "    [theme=dark] .colab-df-convert {\n",
              "      background-color: #3B4455;\n",
              "      fill: #D2E3FC;\n",
              "    }\n",
              "\n",
              "    [theme=dark] .colab-df-convert:hover {\n",
              "      background-color: #434B5C;\n",
              "      box-shadow: 0px 1px 3px 1px rgba(0, 0, 0, 0.15);\n",
              "      filter: drop-shadow(0px 1px 2px rgba(0, 0, 0, 0.3));\n",
              "      fill: #FFFFFF;\n",
              "    }\n",
              "  </style>\n",
              "\n",
              "      <script>\n",
              "        const buttonEl =\n",
              "          document.querySelector('#df-15d8d5d9-103a-4dae-9530-1d64dcf1027b button.colab-df-convert');\n",
              "        buttonEl.style.display =\n",
              "          google.colab.kernel.accessAllowed ? 'block' : 'none';\n",
              "\n",
              "        async function convertToInteractive(key) {\n",
              "          const element = document.querySelector('#df-15d8d5d9-103a-4dae-9530-1d64dcf1027b');\n",
              "          const dataTable =\n",
              "            await google.colab.kernel.invokeFunction('convertToInteractive',\n",
              "                                                     [key], {});\n",
              "          if (!dataTable) return;\n",
              "\n",
              "          const docLinkHtml = 'Like what you see? Visit the ' +\n",
              "            '<a target=\"_blank\" href=https://colab.research.google.com/notebooks/data_table.ipynb>data table notebook</a>'\n",
              "            + ' to learn more about interactive tables.';\n",
              "          element.innerHTML = '';\n",
              "          dataTable['output_type'] = 'display_data';\n",
              "          await google.colab.output.renderOutput(dataTable, element);\n",
              "          const docLink = document.createElement('div');\n",
              "          docLink.innerHTML = docLinkHtml;\n",
              "          element.appendChild(docLink);\n",
              "        }\n",
              "      </script>\n",
              "    </div>\n",
              "  </div>\n",
              "  "
            ],
            "text/plain": [
              "            key    arrestdt                         PD_DESC             desc  \\\n",
              "330   237018766  11/28/2021  CONTROLLED SUBSTANCE, POSSESSI  DANGEROUS DRUGS   \n",
              "1128  237985119  12/17/2021  CONTROLLED SUBSTANCE, POSSESSI  DANGEROUS DRUGS   \n",
              "1752  237537062   12/8/2021  CONTROLLED SUBSTANCE, POSSESSI  DANGEROUS DRUGS   \n",
              "2822  238492241  12/31/2021  CONTROLLED SUBSTANCE, INTENT T  DANGEROUS DRUGS   \n",
              "2859  237060467  11/29/2021  CONTROLLED SUBSTANCE,INTENT TO  DANGEROUS DRUGS   \n",
              "\n",
              "     boro  precinct agegrp gender                      race     xcor    ycor  \\\n",
              "330     K        72  25-44      M  ASIAN / PACIFIC ISLANDER   980513  171319   \n",
              "1128    K        72  25-44      M  ASIAN / PACIFIC ISLANDER   982394  171182   \n",
              "1752    M        28  25-44      M  ASIAN / PACIFIC ISLANDER   999342  233575   \n",
              "2822    Q       109  45-64      M  ASIAN / PACIFIC ISLANDER  1035455  217367   \n",
              "2859    M        14  25-44      M  ASIAN / PACIFIC ISLANDER   987341  215631   \n",
              "\n",
              "            lat       long  \n",
              "330   40.636915 -74.013466  \n",
              "1128  40.636540 -74.006689  \n",
              "1752  40.807781 -73.945485  \n",
              "2822  40.763159 -73.815158  \n",
              "2859  40.758541 -73.988844  "
            ]
          },
          "metadata": {},
          "execution_count": 74
        }
      ]
    },
    {
      "cell_type": "code",
      "source": [
        "#checking the numbers\n",
        "df2['race'].count()"
      ],
      "metadata": {
        "colab": {
          "base_uri": "https://localhost:8080/"
        },
        "id": "5zuFXr-Dhq22",
        "outputId": "8e9b71e0-f26d-4207-942b-696ce8e28536"
      },
      "execution_count": 75,
      "outputs": [
        {
          "output_type": "execute_result",
          "data": {
            "text/plain": [
              "389"
            ]
          },
          "metadata": {},
          "execution_count": 75
        }
      ]
    },
    {
      "cell_type": "code",
      "source": [
        "#checking the numbers again by using a different variable\n",
        "df2['agegrp'].count()"
      ],
      "metadata": {
        "colab": {
          "base_uri": "https://localhost:8080/"
        },
        "id": "apIUfFYXhvFy",
        "outputId": "fc1695e3-6d04-47dd-d93a-92175d0e7287"
      },
      "execution_count": 76,
      "outputs": [
        {
          "output_type": "execute_result",
          "data": {
            "text/plain": [
              "389"
            ]
          },
          "metadata": {},
          "execution_count": 76
        }
      ]
    },
    {
      "cell_type": "code",
      "source": [
        "# pulling the breakdown by age group of asian/pacific islander arrested due to dangerous drugs \n",
        "# data shows that 25-44 age group has the highest dangerous drugs among Asian/Pacific Islander\n",
        "df2.groupby(['agegrp'])['race'].count()"
      ],
      "metadata": {
        "colab": {
          "base_uri": "https://localhost:8080/"
        },
        "id": "220qlA5UhyAk",
        "outputId": "6e8cbdbf-551c-4205-cbc7-084c485bdb66"
      },
      "execution_count": 77,
      "outputs": [
        {
          "output_type": "execute_result",
          "data": {
            "text/plain": [
              "agegrp\n",
              "18-24     80\n",
              "25-44    258\n",
              "45-64     43\n",
              "65+        4\n",
              "<18        4\n",
              "Name: race, dtype: int64"
            ]
          },
          "metadata": {},
          "execution_count": 77
        }
      ]
    },
    {
      "cell_type": "code",
      "source": [
        "#plotting the stats above using a piechart\n",
        "df2.groupby(['agegrp'])['race'].count().plot(kind=\"pie\")\n",
        "plt.title('Arrest by Age Group')"
      ],
      "metadata": {
        "colab": {
          "base_uri": "https://localhost:8080/",
          "height": 281
        },
        "id": "88eULkD2jdG1",
        "outputId": "921f6af6-c0a2-4905-9c9c-12b709c14c52"
      },
      "execution_count": 83,
      "outputs": [
        {
          "output_type": "execute_result",
          "data": {
            "text/plain": [
              "Text(0.5, 1.0, 'Arrest by Age Group')"
            ]
          },
          "metadata": {},
          "execution_count": 83
        },
        {
          "output_type": "display_data",
          "data": {
            "image/png": "[encoded data removed]",
            "text/plain": [
              "<Figure size 432x288 with 1 Axes>"
            ]
          },
          "metadata": {}
        }
      ]
    },
    {
      "cell_type": "code",
      "source": [
        "#plotting the stats above using seaborn\n",
        "sns.stripplot(x= 'agegrp', y= 'race', data=df2)\n",
        "plt.title(\"Arrested by Age Group\")"
      ],
      "metadata": {
        "colab": {
          "base_uri": "https://localhost:8080/",
          "height": 312
        },
        "id": "u4xQycbrh1I-",
        "outputId": "87717a9c-0aa8-4bf0-9e6f-23263c0169c6"
      },
      "execution_count": 78,
      "outputs": [
        {
          "output_type": "execute_result",
          "data": {
            "text/plain": [
              "Text(0.5, 1.0, 'Arrested by Age Group')"
            ]
          },
          "metadata": {},
          "execution_count": 78
        },
        {
          "output_type": "display_data",
          "data": {
            "image/png": "[encoded data removed]",
            "text/plain": [
              "<Figure size 432x288 with 1 Axes>"
            ]
          },
          "metadata": {
            "needs_background": "light"
          }
        }
      ]
    },
    {
      "cell_type": "code",
      "source": [
        "#precinct 68 has the most Asian/Pacific Islander arrest out of all of the precincts\n",
        "df2.groupby(['precinct'])['race'].count()"
      ],
      "metadata": {
        "colab": {
          "base_uri": "https://localhost:8080/"
        },
        "id": "eBox7opWh81a",
        "outputId": "6458abe9-034c-4938-d447-ec3828b1c71d"
      },
      "execution_count": 79,
      "outputs": [
        {
          "output_type": "execute_result",
          "data": {
            "text/plain": [
              "precinct\n",
              "5       5\n",
              "6       1\n",
              "7       3\n",
              "9       3\n",
              "10      1\n",
              "14     18\n",
              "20      1\n",
              "24      2\n",
              "25     20\n",
              "28      4\n",
              "30      1\n",
              "32      1\n",
              "33      1\n",
              "40      1\n",
              "42      2\n",
              "44      2\n",
              "45      8\n",
              "46      1\n",
              "47      1\n",
              "48      1\n",
              "50      1\n",
              "60      5\n",
              "61      5\n",
              "62     13\n",
              "63      2\n",
              "66      3\n",
              "67      3\n",
              "68     55\n",
              "69      2\n",
              "70      3\n",
              "71      1\n",
              "72     33\n",
              "73      1\n",
              "75      4\n",
              "76      2\n",
              "78      1\n",
              "79      5\n",
              "83      2\n",
              "84      1\n",
              "88      1\n",
              "90      2\n",
              "102     8\n",
              "103    17\n",
              "105     5\n",
              "106    16\n",
              "107     5\n",
              "108     5\n",
              "109    46\n",
              "110    15\n",
              "111     3\n",
              "112     2\n",
              "113     7\n",
              "114    20\n",
              "115     7\n",
              "120     7\n",
              "121     1\n",
              "122     3\n",
              "Name: race, dtype: int64"
            ]
          },
          "metadata": {},
          "execution_count": 79
        }
      ]
    },
    {
      "cell_type": "code",
      "source": [
        "#plotted stats above\n",
        "sns.scatterplot(x='precinct', y='race', data=df2)\n",
        "plt.title('Arrests by Precinct')"
      ],
      "metadata": {
        "colab": {
          "base_uri": "https://localhost:8080/",
          "height": 312
        },
        "id": "efhlsDMBh_CM",
        "outputId": "158b36c5-502e-46bf-fdb2-ff80e6e3f370"
      },
      "execution_count": 101,
      "outputs": [
        {
          "output_type": "execute_result",
          "data": {
            "text/plain": [
              "Text(0.5, 1.0, 'Arrests by Precinct')"
            ]
          },
          "metadata": {},
          "execution_count": 101
        },
        {
          "output_type": "display_data",
          "data": {
            "image/png": "[encoded data removed]",
            "text/plain": [
              "<Figure size 432x288 with 1 Axes>"
            ]
          },
          "metadata": {
            "needs_background": "light"
          }
        }
      ]
    },
    {
      "cell_type": "code",
      "source": [
        "#plotted stats above using violin plot\n",
        "sns.violinplot(x='precinct', y='race', data=df2, color='mediumseagreen')\n",
        "plt.title('Arrests by Precinct')"
      ],
      "metadata": {
        "colab": {
          "base_uri": "https://localhost:8080/",
          "height": 312
        },
        "id": "84EeUqIhlK2z",
        "outputId": "38f4db44-d355-4ec4-fba5-c128abd3f6ec"
      },
      "execution_count": 102,
      "outputs": [
        {
          "output_type": "execute_result",
          "data": {
            "text/plain": [
              "Text(0.5, 1.0, 'Arrests by Precinct')"
            ]
          },
          "metadata": {},
          "execution_count": 102
        },
        {
          "output_type": "display_data",
          "data": {
            "image/png": "[encoded data removed]",
            "text/plain": [
              "<Figure size 432x288 with 1 Axes>"
            ]
          },
          "metadata": {
            "needs_background": "light"
          }
        }
      ]
    }
  ]
}